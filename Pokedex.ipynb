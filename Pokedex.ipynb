{
 "cells": [
  {
   "cell_type": "markdown",
   "metadata": {
    "toc": true
   },
   "source": [
    "<h1>Table of Contents<span class=\"tocSkip\"></span></h1>\n",
    "<div class=\"toc\"><ul class=\"toc-item\"><li><span><a href=\"#Pokémon-Overview\" data-toc-modified-id=\"Pokémon-Overview-1\"><span class=\"toc-item-num\">1&nbsp;&nbsp;</span>Pokémon Overview</a></span></li><li><span><a href=\"#Pokémon-Data\" data-toc-modified-id=\"Pokémon-Data-2\"><span class=\"toc-item-num\">2&nbsp;&nbsp;</span>Pokémon Data</a></span><ul class=\"toc-item\"><li><span><a href=\"#Indexes-and-Uniqueness\" data-toc-modified-id=\"Indexes-and-Uniqueness-2.1\"><span class=\"toc-item-num\">2.1&nbsp;&nbsp;</span>Indexes and Uniqueness</a></span></li><li><span><a href=\"#Selecting-Specific-Columns\" data-toc-modified-id=\"Selecting-Specific-Columns-2.2\"><span class=\"toc-item-num\">2.2&nbsp;&nbsp;</span>Selecting Specific Columns</a></span></li></ul></li><li><span><a href=\"#Selecting-Rows\" data-toc-modified-id=\"Selecting-Rows-3\"><span class=\"toc-item-num\">3&nbsp;&nbsp;</span>Selecting Rows</a></span><ul class=\"toc-item\"><li><span><a href=\"#Exact-Text-Matches\" data-toc-modified-id=\"Exact-Text-Matches-3.1\"><span class=\"toc-item-num\">3.1&nbsp;&nbsp;</span>Exact Text Matches</a></span></li><li><span><a href=\"#Partial-Text-Matching\" data-toc-modified-id=\"Partial-Text-Matching-3.2\"><span class=\"toc-item-num\">3.2&nbsp;&nbsp;</span>Partial Text Matching</a></span></li></ul></li><li><span><a href=\"#Numerical-Conditions\" data-toc-modified-id=\"Numerical-Conditions-4\"><span class=\"toc-item-num\">4&nbsp;&nbsp;</span>Numerical Conditions</a></span></li><li><span><a href=\"#Grouping--and-Aggregation\" data-toc-modified-id=\"Grouping--and-Aggregation-5\"><span class=\"toc-item-num\">5&nbsp;&nbsp;</span>Grouping  and Aggregation</a></span><ul class=\"toc-item\"><li><span><a href=\"#Counting-in-Groups\" data-toc-modified-id=\"Counting-in-Groups-5.1\"><span class=\"toc-item-num\">5.1&nbsp;&nbsp;</span>Counting in Groups</a></span></li><li><span><a href=\"#Selecting-Record-with-a-MultiIndex\" data-toc-modified-id=\"Selecting-Record-with-a-MultiIndex-5.2\"><span class=\"toc-item-num\">5.2&nbsp;&nbsp;</span>Selecting Record with a MultiIndex</a></span></li><li><span><a href=\"#Select-a-Record-by-Query\" data-toc-modified-id=\"Select-a-Record-by-Query-5.3\"><span class=\"toc-item-num\">5.3&nbsp;&nbsp;</span>Select a Record by Query</a></span></li><li><span><a href=\"#Renaming-columns\" data-toc-modified-id=\"Renaming-columns-5.4\"><span class=\"toc-item-num\">5.4&nbsp;&nbsp;</span>Renaming columns</a></span></li></ul></li><li><span><a href=\"#Basic-Plotting\" data-toc-modified-id=\"Basic-Plotting-6\"><span class=\"toc-item-num\">6&nbsp;&nbsp;</span>Basic Plotting</a></span></li><li><span><a href=\"#Correlations\" data-toc-modified-id=\"Correlations-7\"><span class=\"toc-item-num\">7&nbsp;&nbsp;</span>Correlations</a></span><ul class=\"toc-item\"><li><span><a href=\"#Resetting-an-Index\" data-toc-modified-id=\"Resetting-an-Index-7.1\"><span class=\"toc-item-num\">7.1&nbsp;&nbsp;</span>Resetting an Index</a></span></li><li><span><a href=\"#Correlation-Heatmap\" data-toc-modified-id=\"Correlation-Heatmap-7.2\"><span class=\"toc-item-num\">7.2&nbsp;&nbsp;</span>Correlation Heatmap</a></span><ul class=\"toc-item\"><li><span><a href=\"#get_duplicate_indexes\" data-toc-modified-id=\"get_duplicate_indexes-7.2.1\"><span class=\"toc-item-num\">7.2.1&nbsp;&nbsp;</span>get_duplicate_indexes</a></span></li></ul></li></ul></li><li><span><a href=\"#Download-Additional-Pokemon-Data\" data-toc-modified-id=\"Download-Additional-Pokemon-Data-8\"><span class=\"toc-item-num\">8&nbsp;&nbsp;</span>Download Additional Pokemon Data</a></span></li><li><span><a href=\"#Types\" data-toc-modified-id=\"Types-9\"><span class=\"toc-item-num\">9&nbsp;&nbsp;</span>Types</a></span></li><li><span><a href=\"#Pokemon-Types\" data-toc-modified-id=\"Pokemon-Types-10\"><span class=\"toc-item-num\">10&nbsp;&nbsp;</span>Pokemon Types</a></span><ul class=\"toc-item\"><li><ul class=\"toc-item\"><li><span><a href=\"#Duplicated-Pokemon-Types\" data-toc-modified-id=\"Duplicated-Pokemon-Types-10.0.1\"><span class=\"toc-item-num\">10.0.1&nbsp;&nbsp;</span>Duplicated Pokemon Types</a></span></li></ul></li></ul></li><li><span><a href=\"#Joining-DataFrames\" data-toc-modified-id=\"Joining-DataFrames-11\"><span class=\"toc-item-num\">11&nbsp;&nbsp;</span>Joining DataFrames</a></span></li><li><span><a href=\"#Grouping-and-Plotting\" data-toc-modified-id=\"Grouping-and-Plotting-12\"><span class=\"toc-item-num\">12&nbsp;&nbsp;</span>Grouping and Plotting</a></span></li><li><span><a href=\"#Correlations\" data-toc-modified-id=\"Correlations-13\"><span class=\"toc-item-num\">13&nbsp;&nbsp;</span>Correlations</a></span><ul class=\"toc-item\"><li><span><a href=\"#Abilities\" data-toc-modified-id=\"Abilities-13.1\"><span class=\"toc-item-num\">13.1&nbsp;&nbsp;</span>Abilities</a></span></li><li><span><a href=\"#Pokemon-to-Abilities-Mapping\" data-toc-modified-id=\"Pokemon-to-Abilities-Mapping-13.2\"><span class=\"toc-item-num\">13.2&nbsp;&nbsp;</span>Pokemon to Abilities Mapping</a></span></li></ul></li><li><span><a href=\"#Categorical-Data\" data-toc-modified-id=\"Categorical-Data-14\"><span class=\"toc-item-num\">14&nbsp;&nbsp;</span>Categorical Data</a></span></li></ul></div>"
   ]
  },
  {
   "cell_type": "markdown",
   "metadata": {},
   "source": [
    "# Pokémon Overview\n",
    "\n",
    "> The Pokémon franchise revolves around 807 fictional species of collectible monsters, each having unique designs and skills. Conceived by Satoshi Tajiri in early 1989, Pokémon are creatures that inhabit the fictional Pokémon World. The designs for the multitude of species can draw inspiration from anything, such as inanimate objects, real-world animals, or mythology. Many Pokémon are capable of evolving into more powerful species, while others can undergo form changes and achieve similar results. Originally, only a handful of artists led by Ken Sugimori designed Pokémon. However, by 2013 a team of 20 artists worked together to create new species designs. Sugimori and Hironobu Yoshida lead the team and determine the final designs. Each iteration of the series has brought about praise and criticism over the numerous creatures - https://en.wikipedia.org/wiki/List_of_Pok%C3%A9mon\n",
    "\n",
    "----\n",
    "\n",
    "> Nintendo/Creatures Inc./GAME FREAK inc. Pokémon, Pokémon character names, Nintendo 3DS, Nintendo DS, Wii, Wii U, and Wiiware are trademarks of Nintendo - https://www.pokemon.com/us/legal/\n",
    "\n",
    "This work is in no way affiliated with the fine people above. It is intended for educational purposes under fair use."
   ]
  },
  {
   "cell_type": "markdown",
   "metadata": {},
   "source": [
    "Image Credit: https://veekun.com/dex/pokemon/bulbasaur\n",
    "\n",
    "<img src=\"static/Bulbasaur.png\" />"
   ]
  },
  {
   "cell_type": "code",
   "execution_count": 1,
   "metadata": {},
   "outputs": [],
   "source": [
    "import IPython\n",
    "import requests\n",
    "import pandas as pd\n",
    "import numpy as np\n",
    "import seaborn as sns\n",
    "import matplotlib.pyplot as plt\n",
    "from sklearn.linear_model import LinearRegression"
   ]
  },
  {
   "cell_type": "markdown",
   "metadata": {},
   "source": [
    "# Pokémon Data\n",
    "\n",
    "Download the files from the interwebs and save it to my hard drive. Found a Github repo that has pokemon data as handy CSVs: https://github.com/veekun/pokedex"
   ]
  },
  {
   "cell_type": "code",
   "execution_count": 2,
   "metadata": {},
   "outputs": [],
   "source": [
    "def download_file(url, destination, use_ssl = True):    \n",
    "    r = requests.get(url, allow_redirects=True, verify = use_ssl)\n",
    "    open(destination, \"wb\").write(r.content)\n",
    "    return"
   ]
  },
  {
   "cell_type": "code",
   "execution_count": 3,
   "metadata": {},
   "outputs": [],
   "source": [
    "download_file(\"https://github.com/veekun/pokedex/raw/master/pokedex/data/csv/pokemon.csv\", \n",
    "              \"pokemon.csv\")"
   ]
  },
  {
   "cell_type": "markdown",
   "metadata": {},
   "source": [
    "Load our downloaded CSV into a Pandas DataFrame"
   ]
  },
  {
   "cell_type": "code",
   "execution_count": 4,
   "metadata": {},
   "outputs": [],
   "source": [
    "df_pokemon = pd.read_csv(\"pokemon.csv\")"
   ]
  },
  {
   "cell_type": "markdown",
   "metadata": {},
   "source": [
    "So what columns do we have?"
   ]
  },
  {
   "cell_type": "code",
   "execution_count": 5,
   "metadata": {
    "scrolled": true
   },
   "outputs": [
    {
     "data": {
      "text/plain": [
       "Index(['id', 'identifier', 'species_id', 'height', 'weight', 'base_experience',\n",
       "       'order', 'is_default'],\n",
       "      dtype='object')"
      ]
     },
     "execution_count": 5,
     "metadata": {},
     "output_type": "execute_result"
    }
   ],
   "source": [
    "df_pokemon.columns"
   ]
  },
  {
   "cell_type": "markdown",
   "metadata": {},
   "source": [
    "**Preview of Pokemon Data**\n",
    "\n",
    "* **id** - The unique id for the Pokemon\n",
    "* **identifier** - The name of the Pokemon\n",
    "* **species_id** - ???\n",
    "* **height** - The height of the Pokemon\n",
    "* **weight** - The weight of the Pokemon\n",
    "* **base_experience** - Experience required for the Pokemon to level up\n",
    "* **order** - ???\n",
    "* **is_default** - ???"
   ]
  },
  {
   "cell_type": "code",
   "execution_count": 6,
   "metadata": {},
   "outputs": [
    {
     "data": {
      "text/html": [
       "<div>\n",
       "<style scoped>\n",
       "    .dataframe tbody tr th:only-of-type {\n",
       "        vertical-align: middle;\n",
       "    }\n",
       "\n",
       "    .dataframe tbody tr th {\n",
       "        vertical-align: top;\n",
       "    }\n",
       "\n",
       "    .dataframe thead th {\n",
       "        text-align: right;\n",
       "    }\n",
       "</style>\n",
       "<table border=\"1\" class=\"dataframe\">\n",
       "  <thead>\n",
       "    <tr style=\"text-align: right;\">\n",
       "      <th></th>\n",
       "      <th>id</th>\n",
       "      <th>identifier</th>\n",
       "      <th>species_id</th>\n",
       "      <th>height</th>\n",
       "      <th>weight</th>\n",
       "      <th>base_experience</th>\n",
       "      <th>order</th>\n",
       "      <th>is_default</th>\n",
       "    </tr>\n",
       "  </thead>\n",
       "  <tbody>\n",
       "    <tr>\n",
       "      <th>0</th>\n",
       "      <td>1</td>\n",
       "      <td>bulbasaur</td>\n",
       "      <td>1</td>\n",
       "      <td>7</td>\n",
       "      <td>69</td>\n",
       "      <td>64</td>\n",
       "      <td>1</td>\n",
       "      <td>1</td>\n",
       "    </tr>\n",
       "    <tr>\n",
       "      <th>1</th>\n",
       "      <td>2</td>\n",
       "      <td>ivysaur</td>\n",
       "      <td>2</td>\n",
       "      <td>10</td>\n",
       "      <td>130</td>\n",
       "      <td>142</td>\n",
       "      <td>2</td>\n",
       "      <td>1</td>\n",
       "    </tr>\n",
       "    <tr>\n",
       "      <th>2</th>\n",
       "      <td>3</td>\n",
       "      <td>venusaur</td>\n",
       "      <td>3</td>\n",
       "      <td>20</td>\n",
       "      <td>1000</td>\n",
       "      <td>236</td>\n",
       "      <td>3</td>\n",
       "      <td>1</td>\n",
       "    </tr>\n",
       "    <tr>\n",
       "      <th>3</th>\n",
       "      <td>4</td>\n",
       "      <td>charmander</td>\n",
       "      <td>4</td>\n",
       "      <td>6</td>\n",
       "      <td>85</td>\n",
       "      <td>62</td>\n",
       "      <td>5</td>\n",
       "      <td>1</td>\n",
       "    </tr>\n",
       "    <tr>\n",
       "      <th>4</th>\n",
       "      <td>5</td>\n",
       "      <td>charmeleon</td>\n",
       "      <td>5</td>\n",
       "      <td>11</td>\n",
       "      <td>190</td>\n",
       "      <td>142</td>\n",
       "      <td>6</td>\n",
       "      <td>1</td>\n",
       "    </tr>\n",
       "  </tbody>\n",
       "</table>\n",
       "</div>"
      ],
      "text/plain": [
       "   id  identifier  species_id  height  weight  base_experience  order  \\\n",
       "0   1   bulbasaur           1       7      69               64      1   \n",
       "1   2     ivysaur           2      10     130              142      2   \n",
       "2   3    venusaur           3      20    1000              236      3   \n",
       "3   4  charmander           4       6      85               62      5   \n",
       "4   5  charmeleon           5      11     190              142      6   \n",
       "\n",
       "   is_default  \n",
       "0           1  \n",
       "1           1  \n",
       "2           1  \n",
       "3           1  \n",
       "4           1  "
      ]
     },
     "execution_count": 6,
     "metadata": {},
     "output_type": "execute_result"
    }
   ],
   "source": [
    "df_pokemon.head()"
   ]
  },
  {
   "cell_type": "markdown",
   "metadata": {},
   "source": [
    "How many Pokemon in total?"
   ]
  },
  {
   "cell_type": "code",
   "execution_count": 7,
   "metadata": {},
   "outputs": [
    {
     "data": {
      "text/plain": [
       "964"
      ]
     },
     "execution_count": 7,
     "metadata": {},
     "output_type": "execute_result"
    }
   ],
   "source": [
    "len(df_pokemon)"
   ]
  },
  {
   "cell_type": "markdown",
   "metadata": {},
   "source": [
    "## Indexes and Uniqueness\n",
    "\n",
    "So what's the very first column? It is the Index an automatically generated unique identifier for each row."
   ]
  },
  {
   "cell_type": "code",
   "execution_count": 8,
   "metadata": {},
   "outputs": [
    {
     "data": {
      "text/plain": [
       "RangeIndex(start=0, stop=964, step=1)"
      ]
     },
     "execution_count": 8,
     "metadata": {},
     "output_type": "execute_result"
    }
   ],
   "source": [
    "df_pokemon.index"
   ]
  },
  {
   "cell_type": "markdown",
   "metadata": {},
   "source": [
    "Our dataset has an `id` column. Which if it is unique we could use as our unique index.\n",
    "\n",
    "So is the `id` column actually unique?"
   ]
  },
  {
   "cell_type": "code",
   "execution_count": 9,
   "metadata": {},
   "outputs": [
    {
     "data": {
      "text/plain": [
       "True"
      ]
     },
     "execution_count": 9,
     "metadata": {},
     "output_type": "execute_result"
    }
   ],
   "source": [
    "df_pokemon[\"id\"].is_unique"
   ]
  },
  {
   "cell_type": "markdown",
   "metadata": {},
   "source": [
    "Is the identifier column unique?"
   ]
  },
  {
   "cell_type": "code",
   "execution_count": 10,
   "metadata": {},
   "outputs": [
    {
     "data": {
      "text/plain": [
       "True"
      ]
     },
     "execution_count": 10,
     "metadata": {},
     "output_type": "execute_result"
    }
   ],
   "source": [
    "df_pokemon[\"identifier\"].is_unique"
   ]
  },
  {
   "cell_type": "markdown",
   "metadata": {},
   "source": [
    "So we could use it as the Index to uniquely identify each row."
   ]
  },
  {
   "cell_type": "code",
   "execution_count": 11,
   "metadata": {},
   "outputs": [
    {
     "data": {
      "text/html": [
       "<div>\n",
       "<style scoped>\n",
       "    .dataframe tbody tr th:only-of-type {\n",
       "        vertical-align: middle;\n",
       "    }\n",
       "\n",
       "    .dataframe tbody tr th {\n",
       "        vertical-align: top;\n",
       "    }\n",
       "\n",
       "    .dataframe thead th {\n",
       "        text-align: right;\n",
       "    }\n",
       "</style>\n",
       "<table border=\"1\" class=\"dataframe\">\n",
       "  <thead>\n",
       "    <tr style=\"text-align: right;\">\n",
       "      <th></th>\n",
       "      <th>identifier</th>\n",
       "      <th>species_id</th>\n",
       "      <th>height</th>\n",
       "      <th>weight</th>\n",
       "      <th>base_experience</th>\n",
       "      <th>order</th>\n",
       "      <th>is_default</th>\n",
       "    </tr>\n",
       "    <tr>\n",
       "      <th>id</th>\n",
       "      <th></th>\n",
       "      <th></th>\n",
       "      <th></th>\n",
       "      <th></th>\n",
       "      <th></th>\n",
       "      <th></th>\n",
       "      <th></th>\n",
       "    </tr>\n",
       "  </thead>\n",
       "  <tbody>\n",
       "    <tr>\n",
       "      <th>1</th>\n",
       "      <td>bulbasaur</td>\n",
       "      <td>1</td>\n",
       "      <td>7</td>\n",
       "      <td>69</td>\n",
       "      <td>64</td>\n",
       "      <td>1</td>\n",
       "      <td>1</td>\n",
       "    </tr>\n",
       "    <tr>\n",
       "      <th>2</th>\n",
       "      <td>ivysaur</td>\n",
       "      <td>2</td>\n",
       "      <td>10</td>\n",
       "      <td>130</td>\n",
       "      <td>142</td>\n",
       "      <td>2</td>\n",
       "      <td>1</td>\n",
       "    </tr>\n",
       "    <tr>\n",
       "      <th>3</th>\n",
       "      <td>venusaur</td>\n",
       "      <td>3</td>\n",
       "      <td>20</td>\n",
       "      <td>1000</td>\n",
       "      <td>236</td>\n",
       "      <td>3</td>\n",
       "      <td>1</td>\n",
       "    </tr>\n",
       "    <tr>\n",
       "      <th>4</th>\n",
       "      <td>charmander</td>\n",
       "      <td>4</td>\n",
       "      <td>6</td>\n",
       "      <td>85</td>\n",
       "      <td>62</td>\n",
       "      <td>5</td>\n",
       "      <td>1</td>\n",
       "    </tr>\n",
       "    <tr>\n",
       "      <th>5</th>\n",
       "      <td>charmeleon</td>\n",
       "      <td>5</td>\n",
       "      <td>11</td>\n",
       "      <td>190</td>\n",
       "      <td>142</td>\n",
       "      <td>6</td>\n",
       "      <td>1</td>\n",
       "    </tr>\n",
       "  </tbody>\n",
       "</table>\n",
       "</div>"
      ],
      "text/plain": [
       "    identifier  species_id  height  weight  base_experience  order  is_default\n",
       "id                                                                            \n",
       "1    bulbasaur           1       7      69               64      1           1\n",
       "2      ivysaur           2      10     130              142      2           1\n",
       "3     venusaur           3      20    1000              236      3           1\n",
       "4   charmander           4       6      85               62      5           1\n",
       "5   charmeleon           5      11     190              142      6           1"
      ]
     },
     "execution_count": 11,
     "metadata": {},
     "output_type": "execute_result"
    }
   ],
   "source": [
    "df_pokemon = df_pokemon.set_index(\"id\")\n",
    "df_pokemon.head()"
   ]
  },
  {
   "cell_type": "markdown",
   "metadata": {},
   "source": [
    "## Selecting Specific Columns\n",
    "\n",
    "If we only want the names:"
   ]
  },
  {
   "cell_type": "code",
   "execution_count": 12,
   "metadata": {},
   "outputs": [
    {
     "data": {
      "text/plain": [
       "id\n",
       "1                      bulbasaur\n",
       "2                        ivysaur\n",
       "3                       venusaur\n",
       "4                     charmander\n",
       "5                     charmeleon\n",
       "6                      charizard\n",
       "7                       squirtle\n",
       "8                      wartortle\n",
       "9                      blastoise\n",
       "10                      caterpie\n",
       "11                       metapod\n",
       "12                    butterfree\n",
       "13                        weedle\n",
       "14                        kakuna\n",
       "15                      beedrill\n",
       "16                        pidgey\n",
       "17                     pidgeotto\n",
       "18                       pidgeot\n",
       "19                       rattata\n",
       "20                      raticate\n",
       "21                       spearow\n",
       "22                        fearow\n",
       "23                         ekans\n",
       "24                         arbok\n",
       "25                       pikachu\n",
       "26                        raichu\n",
       "27                     sandshrew\n",
       "28                     sandslash\n",
       "29                     nidoran-f\n",
       "30                      nidorina\n",
       "                  ...           \n",
       "10128             lurantis-totem\n",
       "10129             salazzle-totem\n",
       "10130       minior-orange-meteor\n",
       "10131       minior-yellow-meteor\n",
       "10132        minior-green-meteor\n",
       "10133         minior-blue-meteor\n",
       "10134       minior-indigo-meteor\n",
       "10135       minior-violet-meteor\n",
       "10136                 minior-red\n",
       "10137              minior-orange\n",
       "10138              minior-yellow\n",
       "10139               minior-green\n",
       "10140                minior-blue\n",
       "10141              minior-indigo\n",
       "10142              minior-violet\n",
       "10143             mimikyu-busted\n",
       "10144    mimikyu-totem-disguised\n",
       "10145       mimikyu-totem-busted\n",
       "10146              kommo-o-totem\n",
       "10147          magearna-original\n",
       "10148        pikachu-partner-cap\n",
       "10149              marowak-totem\n",
       "10150             ribombee-totem\n",
       "10151         rockruff-own-tempo\n",
       "10152              lycanroc-dusk\n",
       "10153            araquanid-totem\n",
       "10154           togedemaru-totem\n",
       "10155              necrozma-dusk\n",
       "10156              necrozma-dawn\n",
       "10157             necrozma-ultra\n",
       "Name: identifier, Length: 964, dtype: object"
      ]
     },
     "execution_count": 12,
     "metadata": {},
     "output_type": "execute_result"
    }
   ],
   "source": [
    "df_pokemon[\"identifier\"]"
   ]
  },
  {
   "cell_type": "markdown",
   "metadata": {},
   "source": [
    "The above returns the column on it's own, however if we want multiple specific columns, as them as a list:"
   ]
  },
  {
   "cell_type": "code",
   "execution_count": 13,
   "metadata": {},
   "outputs": [
    {
     "data": {
      "text/html": [
       "<div>\n",
       "<style scoped>\n",
       "    .dataframe tbody tr th:only-of-type {\n",
       "        vertical-align: middle;\n",
       "    }\n",
       "\n",
       "    .dataframe tbody tr th {\n",
       "        vertical-align: top;\n",
       "    }\n",
       "\n",
       "    .dataframe thead th {\n",
       "        text-align: right;\n",
       "    }\n",
       "</style>\n",
       "<table border=\"1\" class=\"dataframe\">\n",
       "  <thead>\n",
       "    <tr style=\"text-align: right;\">\n",
       "      <th></th>\n",
       "      <th>identifier</th>\n",
       "      <th>base_experience</th>\n",
       "    </tr>\n",
       "    <tr>\n",
       "      <th>id</th>\n",
       "      <th></th>\n",
       "      <th></th>\n",
       "    </tr>\n",
       "  </thead>\n",
       "  <tbody>\n",
       "    <tr>\n",
       "      <th>1</th>\n",
       "      <td>bulbasaur</td>\n",
       "      <td>64</td>\n",
       "    </tr>\n",
       "    <tr>\n",
       "      <th>2</th>\n",
       "      <td>ivysaur</td>\n",
       "      <td>142</td>\n",
       "    </tr>\n",
       "    <tr>\n",
       "      <th>3</th>\n",
       "      <td>venusaur</td>\n",
       "      <td>236</td>\n",
       "    </tr>\n",
       "    <tr>\n",
       "      <th>4</th>\n",
       "      <td>charmander</td>\n",
       "      <td>62</td>\n",
       "    </tr>\n",
       "    <tr>\n",
       "      <th>5</th>\n",
       "      <td>charmeleon</td>\n",
       "      <td>142</td>\n",
       "    </tr>\n",
       "    <tr>\n",
       "      <th>6</th>\n",
       "      <td>charizard</td>\n",
       "      <td>240</td>\n",
       "    </tr>\n",
       "    <tr>\n",
       "      <th>7</th>\n",
       "      <td>squirtle</td>\n",
       "      <td>63</td>\n",
       "    </tr>\n",
       "    <tr>\n",
       "      <th>8</th>\n",
       "      <td>wartortle</td>\n",
       "      <td>142</td>\n",
       "    </tr>\n",
       "    <tr>\n",
       "      <th>9</th>\n",
       "      <td>blastoise</td>\n",
       "      <td>239</td>\n",
       "    </tr>\n",
       "    <tr>\n",
       "      <th>10</th>\n",
       "      <td>caterpie</td>\n",
       "      <td>39</td>\n",
       "    </tr>\n",
       "    <tr>\n",
       "      <th>11</th>\n",
       "      <td>metapod</td>\n",
       "      <td>72</td>\n",
       "    </tr>\n",
       "    <tr>\n",
       "      <th>12</th>\n",
       "      <td>butterfree</td>\n",
       "      <td>178</td>\n",
       "    </tr>\n",
       "    <tr>\n",
       "      <th>13</th>\n",
       "      <td>weedle</td>\n",
       "      <td>39</td>\n",
       "    </tr>\n",
       "    <tr>\n",
       "      <th>14</th>\n",
       "      <td>kakuna</td>\n",
       "      <td>72</td>\n",
       "    </tr>\n",
       "    <tr>\n",
       "      <th>15</th>\n",
       "      <td>beedrill</td>\n",
       "      <td>178</td>\n",
       "    </tr>\n",
       "    <tr>\n",
       "      <th>16</th>\n",
       "      <td>pidgey</td>\n",
       "      <td>50</td>\n",
       "    </tr>\n",
       "    <tr>\n",
       "      <th>17</th>\n",
       "      <td>pidgeotto</td>\n",
       "      <td>122</td>\n",
       "    </tr>\n",
       "    <tr>\n",
       "      <th>18</th>\n",
       "      <td>pidgeot</td>\n",
       "      <td>216</td>\n",
       "    </tr>\n",
       "    <tr>\n",
       "      <th>19</th>\n",
       "      <td>rattata</td>\n",
       "      <td>51</td>\n",
       "    </tr>\n",
       "    <tr>\n",
       "      <th>20</th>\n",
       "      <td>raticate</td>\n",
       "      <td>145</td>\n",
       "    </tr>\n",
       "    <tr>\n",
       "      <th>21</th>\n",
       "      <td>spearow</td>\n",
       "      <td>52</td>\n",
       "    </tr>\n",
       "    <tr>\n",
       "      <th>22</th>\n",
       "      <td>fearow</td>\n",
       "      <td>155</td>\n",
       "    </tr>\n",
       "    <tr>\n",
       "      <th>23</th>\n",
       "      <td>ekans</td>\n",
       "      <td>58</td>\n",
       "    </tr>\n",
       "    <tr>\n",
       "      <th>24</th>\n",
       "      <td>arbok</td>\n",
       "      <td>157</td>\n",
       "    </tr>\n",
       "    <tr>\n",
       "      <th>25</th>\n",
       "      <td>pikachu</td>\n",
       "      <td>112</td>\n",
       "    </tr>\n",
       "    <tr>\n",
       "      <th>26</th>\n",
       "      <td>raichu</td>\n",
       "      <td>218</td>\n",
       "    </tr>\n",
       "    <tr>\n",
       "      <th>27</th>\n",
       "      <td>sandshrew</td>\n",
       "      <td>60</td>\n",
       "    </tr>\n",
       "    <tr>\n",
       "      <th>28</th>\n",
       "      <td>sandslash</td>\n",
       "      <td>158</td>\n",
       "    </tr>\n",
       "    <tr>\n",
       "      <th>29</th>\n",
       "      <td>nidoran-f</td>\n",
       "      <td>55</td>\n",
       "    </tr>\n",
       "    <tr>\n",
       "      <th>30</th>\n",
       "      <td>nidorina</td>\n",
       "      <td>128</td>\n",
       "    </tr>\n",
       "    <tr>\n",
       "      <th>...</th>\n",
       "      <td>...</td>\n",
       "      <td>...</td>\n",
       "    </tr>\n",
       "    <tr>\n",
       "      <th>10128</th>\n",
       "      <td>lurantis-totem</td>\n",
       "      <td>168</td>\n",
       "    </tr>\n",
       "    <tr>\n",
       "      <th>10129</th>\n",
       "      <td>salazzle-totem</td>\n",
       "      <td>168</td>\n",
       "    </tr>\n",
       "    <tr>\n",
       "      <th>10130</th>\n",
       "      <td>minior-orange-meteor</td>\n",
       "      <td>154</td>\n",
       "    </tr>\n",
       "    <tr>\n",
       "      <th>10131</th>\n",
       "      <td>minior-yellow-meteor</td>\n",
       "      <td>154</td>\n",
       "    </tr>\n",
       "    <tr>\n",
       "      <th>10132</th>\n",
       "      <td>minior-green-meteor</td>\n",
       "      <td>154</td>\n",
       "    </tr>\n",
       "    <tr>\n",
       "      <th>10133</th>\n",
       "      <td>minior-blue-meteor</td>\n",
       "      <td>154</td>\n",
       "    </tr>\n",
       "    <tr>\n",
       "      <th>10134</th>\n",
       "      <td>minior-indigo-meteor</td>\n",
       "      <td>154</td>\n",
       "    </tr>\n",
       "    <tr>\n",
       "      <th>10135</th>\n",
       "      <td>minior-violet-meteor</td>\n",
       "      <td>154</td>\n",
       "    </tr>\n",
       "    <tr>\n",
       "      <th>10136</th>\n",
       "      <td>minior-red</td>\n",
       "      <td>175</td>\n",
       "    </tr>\n",
       "    <tr>\n",
       "      <th>10137</th>\n",
       "      <td>minior-orange</td>\n",
       "      <td>175</td>\n",
       "    </tr>\n",
       "    <tr>\n",
       "      <th>10138</th>\n",
       "      <td>minior-yellow</td>\n",
       "      <td>175</td>\n",
       "    </tr>\n",
       "    <tr>\n",
       "      <th>10139</th>\n",
       "      <td>minior-green</td>\n",
       "      <td>175</td>\n",
       "    </tr>\n",
       "    <tr>\n",
       "      <th>10140</th>\n",
       "      <td>minior-blue</td>\n",
       "      <td>175</td>\n",
       "    </tr>\n",
       "    <tr>\n",
       "      <th>10141</th>\n",
       "      <td>minior-indigo</td>\n",
       "      <td>175</td>\n",
       "    </tr>\n",
       "    <tr>\n",
       "      <th>10142</th>\n",
       "      <td>minior-violet</td>\n",
       "      <td>175</td>\n",
       "    </tr>\n",
       "    <tr>\n",
       "      <th>10143</th>\n",
       "      <td>mimikyu-busted</td>\n",
       "      <td>167</td>\n",
       "    </tr>\n",
       "    <tr>\n",
       "      <th>10144</th>\n",
       "      <td>mimikyu-totem-disguised</td>\n",
       "      <td>167</td>\n",
       "    </tr>\n",
       "    <tr>\n",
       "      <th>10145</th>\n",
       "      <td>mimikyu-totem-busted</td>\n",
       "      <td>167</td>\n",
       "    </tr>\n",
       "    <tr>\n",
       "      <th>10146</th>\n",
       "      <td>kommo-o-totem</td>\n",
       "      <td>270</td>\n",
       "    </tr>\n",
       "    <tr>\n",
       "      <th>10147</th>\n",
       "      <td>magearna-original</td>\n",
       "      <td>270</td>\n",
       "    </tr>\n",
       "    <tr>\n",
       "      <th>10148</th>\n",
       "      <td>pikachu-partner-cap</td>\n",
       "      <td>112</td>\n",
       "    </tr>\n",
       "    <tr>\n",
       "      <th>10149</th>\n",
       "      <td>marowak-totem</td>\n",
       "      <td>149</td>\n",
       "    </tr>\n",
       "    <tr>\n",
       "      <th>10150</th>\n",
       "      <td>ribombee-totem</td>\n",
       "      <td>162</td>\n",
       "    </tr>\n",
       "    <tr>\n",
       "      <th>10151</th>\n",
       "      <td>rockruff-own-tempo</td>\n",
       "      <td>56</td>\n",
       "    </tr>\n",
       "    <tr>\n",
       "      <th>10152</th>\n",
       "      <td>lycanroc-dusk</td>\n",
       "      <td>170</td>\n",
       "    </tr>\n",
       "    <tr>\n",
       "      <th>10153</th>\n",
       "      <td>araquanid-totem</td>\n",
       "      <td>159</td>\n",
       "    </tr>\n",
       "    <tr>\n",
       "      <th>10154</th>\n",
       "      <td>togedemaru-totem</td>\n",
       "      <td>152</td>\n",
       "    </tr>\n",
       "    <tr>\n",
       "      <th>10155</th>\n",
       "      <td>necrozma-dusk</td>\n",
       "      <td>306</td>\n",
       "    </tr>\n",
       "    <tr>\n",
       "      <th>10156</th>\n",
       "      <td>necrozma-dawn</td>\n",
       "      <td>306</td>\n",
       "    </tr>\n",
       "    <tr>\n",
       "      <th>10157</th>\n",
       "      <td>necrozma-ultra</td>\n",
       "      <td>339</td>\n",
       "    </tr>\n",
       "  </tbody>\n",
       "</table>\n",
       "<p>964 rows × 2 columns</p>\n",
       "</div>"
      ],
      "text/plain": [
       "                    identifier  base_experience\n",
       "id                                             \n",
       "1                    bulbasaur               64\n",
       "2                      ivysaur              142\n",
       "3                     venusaur              236\n",
       "4                   charmander               62\n",
       "5                   charmeleon              142\n",
       "6                    charizard              240\n",
       "7                     squirtle               63\n",
       "8                    wartortle              142\n",
       "9                    blastoise              239\n",
       "10                    caterpie               39\n",
       "11                     metapod               72\n",
       "12                  butterfree              178\n",
       "13                      weedle               39\n",
       "14                      kakuna               72\n",
       "15                    beedrill              178\n",
       "16                      pidgey               50\n",
       "17                   pidgeotto              122\n",
       "18                     pidgeot              216\n",
       "19                     rattata               51\n",
       "20                    raticate              145\n",
       "21                     spearow               52\n",
       "22                      fearow              155\n",
       "23                       ekans               58\n",
       "24                       arbok              157\n",
       "25                     pikachu              112\n",
       "26                      raichu              218\n",
       "27                   sandshrew               60\n",
       "28                   sandslash              158\n",
       "29                   nidoran-f               55\n",
       "30                    nidorina              128\n",
       "...                        ...              ...\n",
       "10128           lurantis-totem              168\n",
       "10129           salazzle-totem              168\n",
       "10130     minior-orange-meteor              154\n",
       "10131     minior-yellow-meteor              154\n",
       "10132      minior-green-meteor              154\n",
       "10133       minior-blue-meteor              154\n",
       "10134     minior-indigo-meteor              154\n",
       "10135     minior-violet-meteor              154\n",
       "10136               minior-red              175\n",
       "10137            minior-orange              175\n",
       "10138            minior-yellow              175\n",
       "10139             minior-green              175\n",
       "10140              minior-blue              175\n",
       "10141            minior-indigo              175\n",
       "10142            minior-violet              175\n",
       "10143           mimikyu-busted              167\n",
       "10144  mimikyu-totem-disguised              167\n",
       "10145     mimikyu-totem-busted              167\n",
       "10146            kommo-o-totem              270\n",
       "10147        magearna-original              270\n",
       "10148      pikachu-partner-cap              112\n",
       "10149            marowak-totem              149\n",
       "10150           ribombee-totem              162\n",
       "10151       rockruff-own-tempo               56\n",
       "10152            lycanroc-dusk              170\n",
       "10153          araquanid-totem              159\n",
       "10154         togedemaru-totem              152\n",
       "10155            necrozma-dusk              306\n",
       "10156            necrozma-dawn              306\n",
       "10157           necrozma-ultra              339\n",
       "\n",
       "[964 rows x 2 columns]"
      ]
     },
     "execution_count": 13,
     "metadata": {},
     "output_type": "execute_result"
    }
   ],
   "source": [
    "df_pokemon[[\"identifier\", \"base_experience\"]]"
   ]
  },
  {
   "cell_type": "markdown",
   "metadata": {},
   "source": [
    "# Selecting Rows"
   ]
  },
  {
   "cell_type": "markdown",
   "metadata": {},
   "source": [
    "## Exact Text Matches\n",
    "\n",
    "Lets find the Pokemon called **electrode**. "
   ]
  },
  {
   "cell_type": "code",
   "execution_count": 14,
   "metadata": {},
   "outputs": [
    {
     "data": {
      "text/plain": [
       "id\n",
       "1        False\n",
       "2        False\n",
       "3        False\n",
       "4        False\n",
       "5        False\n",
       "6        False\n",
       "7        False\n",
       "8        False\n",
       "9        False\n",
       "10       False\n",
       "11       False\n",
       "12       False\n",
       "13       False\n",
       "14       False\n",
       "15       False\n",
       "16       False\n",
       "17       False\n",
       "18       False\n",
       "19       False\n",
       "20       False\n",
       "21       False\n",
       "22       False\n",
       "23       False\n",
       "24       False\n",
       "25       False\n",
       "26       False\n",
       "27       False\n",
       "28       False\n",
       "29       False\n",
       "30       False\n",
       "         ...  \n",
       "10128    False\n",
       "10129    False\n",
       "10130    False\n",
       "10131    False\n",
       "10132    False\n",
       "10133    False\n",
       "10134    False\n",
       "10135    False\n",
       "10136    False\n",
       "10137    False\n",
       "10138    False\n",
       "10139    False\n",
       "10140    False\n",
       "10141    False\n",
       "10142    False\n",
       "10143    False\n",
       "10144    False\n",
       "10145    False\n",
       "10146    False\n",
       "10147    False\n",
       "10148    False\n",
       "10149    False\n",
       "10150    False\n",
       "10151    False\n",
       "10152    False\n",
       "10153    False\n",
       "10154    False\n",
       "10155    False\n",
       "10156    False\n",
       "10157    False\n",
       "Name: identifier, Length: 964, dtype: bool"
      ]
     },
     "execution_count": 14,
     "metadata": {},
     "output_type": "execute_result"
    }
   ],
   "source": [
    "df_pokemon[\"identifier\"] == \"electrode\""
   ]
  },
  {
   "cell_type": "markdown",
   "metadata": {},
   "source": [
    "What we have above is an Indexer, which states for each Rows Index if the condition was met.\n",
    "\n",
    "We can use the Index to get the specific rows we want."
   ]
  },
  {
   "cell_type": "code",
   "execution_count": 15,
   "metadata": {
    "scrolled": true
   },
   "outputs": [
    {
     "data": {
      "text/html": [
       "<div>\n",
       "<style scoped>\n",
       "    .dataframe tbody tr th:only-of-type {\n",
       "        vertical-align: middle;\n",
       "    }\n",
       "\n",
       "    .dataframe tbody tr th {\n",
       "        vertical-align: top;\n",
       "    }\n",
       "\n",
       "    .dataframe thead th {\n",
       "        text-align: right;\n",
       "    }\n",
       "</style>\n",
       "<table border=\"1\" class=\"dataframe\">\n",
       "  <thead>\n",
       "    <tr style=\"text-align: right;\">\n",
       "      <th></th>\n",
       "      <th>identifier</th>\n",
       "      <th>species_id</th>\n",
       "      <th>height</th>\n",
       "      <th>weight</th>\n",
       "      <th>base_experience</th>\n",
       "      <th>order</th>\n",
       "      <th>is_default</th>\n",
       "    </tr>\n",
       "    <tr>\n",
       "      <th>id</th>\n",
       "      <th></th>\n",
       "      <th></th>\n",
       "      <th></th>\n",
       "      <th></th>\n",
       "      <th></th>\n",
       "      <th></th>\n",
       "      <th></th>\n",
       "    </tr>\n",
       "  </thead>\n",
       "  <tbody>\n",
       "    <tr>\n",
       "      <th>101</th>\n",
       "      <td>electrode</td>\n",
       "      <td>101</td>\n",
       "      <td>12</td>\n",
       "      <td>666</td>\n",
       "      <td>172</td>\n",
       "      <td>144</td>\n",
       "      <td>1</td>\n",
       "    </tr>\n",
       "  </tbody>\n",
       "</table>\n",
       "</div>"
      ],
      "text/plain": [
       "    identifier  species_id  height  weight  base_experience  order  is_default\n",
       "id                                                                            \n",
       "101  electrode         101      12     666              172    144           1"
      ]
     },
     "execution_count": 15,
     "metadata": {},
     "output_type": "execute_result"
    }
   ],
   "source": [
    "# get me electrode\n",
    "is_electrode_index = df_pokemon[\"identifier\"] == \"electrode\"\n",
    "df_pokemon[is_electrode_index]"
   ]
  },
  {
   "cell_type": "markdown",
   "metadata": {},
   "source": [
    "Because we set the `id` to be the Index we can also lookup by Index value"
   ]
  },
  {
   "cell_type": "code",
   "execution_count": 16,
   "metadata": {},
   "outputs": [
    {
     "data": {
      "text/plain": [
       "identifier         electrode\n",
       "species_id               101\n",
       "height                    12\n",
       "weight                   666\n",
       "base_experience          172\n",
       "order                    144\n",
       "is_default                 1\n",
       "Name: 101, dtype: object"
      ]
     },
     "execution_count": 16,
     "metadata": {},
     "output_type": "execute_result"
    }
   ],
   "source": [
    "# get the pokemon with the Index value of 101\n",
    "df_pokemon.loc[101]"
   ]
  },
  {
   "cell_type": "markdown",
   "metadata": {},
   "source": [
    "We can also lookup by position in the DataFrame, which as position start counting from 0, we don't get **electrode** when at what is at position 101 we get **exeggcute**."
   ]
  },
  {
   "cell_type": "code",
   "execution_count": 17,
   "metadata": {
    "scrolled": true
   },
   "outputs": [
    {
     "data": {
      "text/plain": [
       "identifier         exeggcute\n",
       "species_id               102\n",
       "height                     4\n",
       "weight                    25\n",
       "base_experience           65\n",
       "order                    145\n",
       "is_default                 1\n",
       "Name: 102, dtype: object"
      ]
     },
     "execution_count": 17,
     "metadata": {},
     "output_type": "execute_result"
    }
   ],
   "source": [
    "# get me the pokemon that's 10th in the dataframe\n",
    "df_pokemon.iloc[101] # because 0 based index"
   ]
  },
  {
   "cell_type": "code",
   "execution_count": 18,
   "metadata": {},
   "outputs": [
    {
     "data": {
      "text/html": [
       "<div>\n",
       "<style scoped>\n",
       "    .dataframe tbody tr th:only-of-type {\n",
       "        vertical-align: middle;\n",
       "    }\n",
       "\n",
       "    .dataframe tbody tr th {\n",
       "        vertical-align: top;\n",
       "    }\n",
       "\n",
       "    .dataframe thead th {\n",
       "        text-align: right;\n",
       "    }\n",
       "</style>\n",
       "<table border=\"1\" class=\"dataframe\">\n",
       "  <thead>\n",
       "    <tr style=\"text-align: right;\">\n",
       "      <th></th>\n",
       "      <th>identifier</th>\n",
       "      <th>species_id</th>\n",
       "      <th>height</th>\n",
       "      <th>weight</th>\n",
       "      <th>base_experience</th>\n",
       "      <th>order</th>\n",
       "      <th>is_default</th>\n",
       "    </tr>\n",
       "    <tr>\n",
       "      <th>id</th>\n",
       "      <th></th>\n",
       "      <th></th>\n",
       "      <th></th>\n",
       "      <th></th>\n",
       "      <th></th>\n",
       "      <th></th>\n",
       "      <th></th>\n",
       "    </tr>\n",
       "  </thead>\n",
       "  <tbody>\n",
       "    <tr>\n",
       "      <th>102</th>\n",
       "      <td>exeggcute</td>\n",
       "      <td>102</td>\n",
       "      <td>4</td>\n",
       "      <td>25</td>\n",
       "      <td>65</td>\n",
       "      <td>145</td>\n",
       "      <td>1</td>\n",
       "    </tr>\n",
       "  </tbody>\n",
       "</table>\n",
       "</div>"
      ],
      "text/plain": [
       "    identifier  species_id  height  weight  base_experience  order  is_default\n",
       "id                                                                            \n",
       "102  exeggcute         102       4      25               65    145           1"
      ]
     },
     "execution_count": 18,
     "metadata": {},
     "output_type": "execute_result"
    }
   ],
   "source": [
    "df_pokemon[df_pokemon[\"identifier\"] == \"exeggcute\"]"
   ]
  },
  {
   "cell_type": "markdown",
   "metadata": {},
   "source": [
    "## Partial Text Matching\n",
    "\n",
    "For a series (column) get the values as string and then apply  string `contains` operation to determine if a specific value in the series matches `\"pika\"`.\n",
    "\n",
    "Also lets make a seperate DataFrame that just has Pikachus."
   ]
  },
  {
   "cell_type": "code",
   "execution_count": 19,
   "metadata": {
    "scrolled": true
   },
   "outputs": [
    {
     "data": {
      "text/html": [
       "<div>\n",
       "<style scoped>\n",
       "    .dataframe tbody tr th:only-of-type {\n",
       "        vertical-align: middle;\n",
       "    }\n",
       "\n",
       "    .dataframe tbody tr th {\n",
       "        vertical-align: top;\n",
       "    }\n",
       "\n",
       "    .dataframe thead th {\n",
       "        text-align: right;\n",
       "    }\n",
       "</style>\n",
       "<table border=\"1\" class=\"dataframe\">\n",
       "  <thead>\n",
       "    <tr style=\"text-align: right;\">\n",
       "      <th></th>\n",
       "      <th>identifier</th>\n",
       "      <th>species_id</th>\n",
       "      <th>height</th>\n",
       "      <th>weight</th>\n",
       "      <th>base_experience</th>\n",
       "      <th>order</th>\n",
       "      <th>is_default</th>\n",
       "    </tr>\n",
       "    <tr>\n",
       "      <th>id</th>\n",
       "      <th></th>\n",
       "      <th></th>\n",
       "      <th></th>\n",
       "      <th></th>\n",
       "      <th></th>\n",
       "      <th></th>\n",
       "      <th></th>\n",
       "    </tr>\n",
       "  </thead>\n",
       "  <tbody>\n",
       "    <tr>\n",
       "      <th>25</th>\n",
       "      <td>pikachu</td>\n",
       "      <td>25</td>\n",
       "      <td>4</td>\n",
       "      <td>60</td>\n",
       "      <td>112</td>\n",
       "      <td>35</td>\n",
       "      <td>1</td>\n",
       "    </tr>\n",
       "    <tr>\n",
       "      <th>10080</th>\n",
       "      <td>pikachu-rock-star</td>\n",
       "      <td>25</td>\n",
       "      <td>4</td>\n",
       "      <td>60</td>\n",
       "      <td>112</td>\n",
       "      <td>37</td>\n",
       "      <td>0</td>\n",
       "    </tr>\n",
       "    <tr>\n",
       "      <th>10081</th>\n",
       "      <td>pikachu-belle</td>\n",
       "      <td>25</td>\n",
       "      <td>4</td>\n",
       "      <td>60</td>\n",
       "      <td>112</td>\n",
       "      <td>38</td>\n",
       "      <td>0</td>\n",
       "    </tr>\n",
       "    <tr>\n",
       "      <th>10082</th>\n",
       "      <td>pikachu-pop-star</td>\n",
       "      <td>25</td>\n",
       "      <td>4</td>\n",
       "      <td>60</td>\n",
       "      <td>112</td>\n",
       "      <td>39</td>\n",
       "      <td>0</td>\n",
       "    </tr>\n",
       "    <tr>\n",
       "      <th>10083</th>\n",
       "      <td>pikachu-phd</td>\n",
       "      <td>25</td>\n",
       "      <td>4</td>\n",
       "      <td>60</td>\n",
       "      <td>112</td>\n",
       "      <td>40</td>\n",
       "      <td>0</td>\n",
       "    </tr>\n",
       "    <tr>\n",
       "      <th>10084</th>\n",
       "      <td>pikachu-libre</td>\n",
       "      <td>25</td>\n",
       "      <td>4</td>\n",
       "      <td>60</td>\n",
       "      <td>112</td>\n",
       "      <td>41</td>\n",
       "      <td>0</td>\n",
       "    </tr>\n",
       "    <tr>\n",
       "      <th>10085</th>\n",
       "      <td>pikachu-cosplay</td>\n",
       "      <td>25</td>\n",
       "      <td>4</td>\n",
       "      <td>60</td>\n",
       "      <td>112</td>\n",
       "      <td>36</td>\n",
       "      <td>0</td>\n",
       "    </tr>\n",
       "    <tr>\n",
       "      <th>10094</th>\n",
       "      <td>pikachu-original-cap</td>\n",
       "      <td>25</td>\n",
       "      <td>4</td>\n",
       "      <td>60</td>\n",
       "      <td>112</td>\n",
       "      <td>36</td>\n",
       "      <td>0</td>\n",
       "    </tr>\n",
       "    <tr>\n",
       "      <th>10095</th>\n",
       "      <td>pikachu-hoenn-cap</td>\n",
       "      <td>25</td>\n",
       "      <td>4</td>\n",
       "      <td>60</td>\n",
       "      <td>112</td>\n",
       "      <td>37</td>\n",
       "      <td>0</td>\n",
       "    </tr>\n",
       "    <tr>\n",
       "      <th>10096</th>\n",
       "      <td>pikachu-sinnoh-cap</td>\n",
       "      <td>25</td>\n",
       "      <td>4</td>\n",
       "      <td>60</td>\n",
       "      <td>112</td>\n",
       "      <td>38</td>\n",
       "      <td>0</td>\n",
       "    </tr>\n",
       "    <tr>\n",
       "      <th>10097</th>\n",
       "      <td>pikachu-unova-cap</td>\n",
       "      <td>25</td>\n",
       "      <td>4</td>\n",
       "      <td>60</td>\n",
       "      <td>112</td>\n",
       "      <td>39</td>\n",
       "      <td>0</td>\n",
       "    </tr>\n",
       "    <tr>\n",
       "      <th>10098</th>\n",
       "      <td>pikachu-kalos-cap</td>\n",
       "      <td>25</td>\n",
       "      <td>4</td>\n",
       "      <td>60</td>\n",
       "      <td>112</td>\n",
       "      <td>40</td>\n",
       "      <td>0</td>\n",
       "    </tr>\n",
       "    <tr>\n",
       "      <th>10099</th>\n",
       "      <td>pikachu-alola-cap</td>\n",
       "      <td>25</td>\n",
       "      <td>4</td>\n",
       "      <td>60</td>\n",
       "      <td>112</td>\n",
       "      <td>41</td>\n",
       "      <td>0</td>\n",
       "    </tr>\n",
       "    <tr>\n",
       "      <th>10148</th>\n",
       "      <td>pikachu-partner-cap</td>\n",
       "      <td>25</td>\n",
       "      <td>4</td>\n",
       "      <td>60</td>\n",
       "      <td>112</td>\n",
       "      <td>42</td>\n",
       "      <td>0</td>\n",
       "    </tr>\n",
       "  </tbody>\n",
       "</table>\n",
       "</div>"
      ],
      "text/plain": [
       "                 identifier  species_id  height  weight  base_experience  \\\n",
       "id                                                                         \n",
       "25                  pikachu          25       4      60              112   \n",
       "10080     pikachu-rock-star          25       4      60              112   \n",
       "10081         pikachu-belle          25       4      60              112   \n",
       "10082      pikachu-pop-star          25       4      60              112   \n",
       "10083           pikachu-phd          25       4      60              112   \n",
       "10084         pikachu-libre          25       4      60              112   \n",
       "10085       pikachu-cosplay          25       4      60              112   \n",
       "10094  pikachu-original-cap          25       4      60              112   \n",
       "10095     pikachu-hoenn-cap          25       4      60              112   \n",
       "10096    pikachu-sinnoh-cap          25       4      60              112   \n",
       "10097     pikachu-unova-cap          25       4      60              112   \n",
       "10098     pikachu-kalos-cap          25       4      60              112   \n",
       "10099     pikachu-alola-cap          25       4      60              112   \n",
       "10148   pikachu-partner-cap          25       4      60              112   \n",
       "\n",
       "       order  is_default  \n",
       "id                        \n",
       "25        35           1  \n",
       "10080     37           0  \n",
       "10081     38           0  \n",
       "10082     39           0  \n",
       "10083     40           0  \n",
       "10084     41           0  \n",
       "10085     36           0  \n",
       "10094     36           0  \n",
       "10095     37           0  \n",
       "10096     38           0  \n",
       "10097     39           0  \n",
       "10098     40           0  \n",
       "10099     41           0  \n",
       "10148     42           0  "
      ]
     },
     "execution_count": 19,
     "metadata": {},
     "output_type": "execute_result"
    }
   ],
   "source": [
    "# find me the pikachus\n",
    "pika_index = df_pokemon[\"identifier\"].astype(str).str.contains(\"pika\")\n",
    "df_pikachus = df_pokemon[pika_index]\n",
    "df_pikachus"
   ]
  },
  {
   "cell_type": "markdown",
   "metadata": {},
   "source": [
    "How many Pikachus do we have?"
   ]
  },
  {
   "cell_type": "code",
   "execution_count": 20,
   "metadata": {},
   "outputs": [
    {
     "data": {
      "text/plain": [
       "14"
      ]
     },
     "execution_count": 20,
     "metadata": {},
     "output_type": "execute_result"
    }
   ],
   "source": [
    "len(df_pikachus)"
   ]
  },
  {
   "cell_type": "markdown",
   "metadata": {},
   "source": [
    "That's more than I expected...\n",
    "<img src=\"https://cdn.mainichi.jp/vol1/2017/08/09/20170809hpe00m0et008000q/8.jpg?1\"/>\n",
    "image credit: https://mainichi.jp/english/graphs/20170809/hpe/00m/0et/001000g/8"
   ]
  },
  {
   "cell_type": "markdown",
   "metadata": {},
   "source": [
    "# Numerical Conditions\n",
    "\n",
    "Let's get some basic summary statistics for the height of our pokemon."
   ]
  },
  {
   "cell_type": "code",
   "execution_count": 21,
   "metadata": {},
   "outputs": [
    {
     "data": {
      "text/plain": [
       "12.464730290456432"
      ]
     },
     "execution_count": 21,
     "metadata": {},
     "output_type": "execute_result"
    }
   ],
   "source": [
    "df_pokemon[\"height\"].mean()"
   ]
  },
  {
   "cell_type": "code",
   "execution_count": 22,
   "metadata": {},
   "outputs": [
    {
     "data": {
      "text/plain": [
       "12.926254639816213"
      ]
     },
     "execution_count": 22,
     "metadata": {},
     "output_type": "execute_result"
    }
   ],
   "source": [
    "df_pokemon[\"height\"].std()"
   ]
  },
  {
   "cell_type": "code",
   "execution_count": 23,
   "metadata": {},
   "outputs": [
    {
     "data": {
      "text/plain": [
       "10.0"
      ]
     },
     "execution_count": 23,
     "metadata": {},
     "output_type": "execute_result"
    }
   ],
   "source": [
    "df_pokemon[\"height\"].median()"
   ]
  },
  {
   "cell_type": "markdown",
   "metadata": {},
   "source": [
    "Or a single call to to get summary statistics."
   ]
  },
  {
   "cell_type": "code",
   "execution_count": 24,
   "metadata": {},
   "outputs": [
    {
     "data": {
      "text/plain": [
       "count    964.000000\n",
       "mean      12.464730\n",
       "std       12.926255\n",
       "min        1.000000\n",
       "25%        5.000000\n",
       "50%       10.000000\n",
       "75%       15.000000\n",
       "max      145.000000\n",
       "Name: height, dtype: float64"
      ]
     },
     "execution_count": 24,
     "metadata": {},
     "output_type": "execute_result"
    }
   ],
   "source": [
    "df_pokemon[\"height\"].describe()"
   ]
  },
  {
   "cell_type": "markdown",
   "metadata": {},
   "source": [
    "Lets get the tallest Pokemon in the highest quartile."
   ]
  },
  {
   "cell_type": "code",
   "execution_count": 25,
   "metadata": {},
   "outputs": [
    {
     "name": "stdout",
     "output_type": "stream",
     "text": [
      "tallest_quartile_height 15.0\n"
     ]
    }
   ],
   "source": [
    "tallest_quartile_height = df_pokemon[\"height\"].describe()[\"75%\"]\n",
    "print(\"tallest_quartile_height\", tallest_quartile_height)"
   ]
  },
  {
   "cell_type": "code",
   "execution_count": 26,
   "metadata": {},
   "outputs": [],
   "source": [
    "tallest_quartile_height_index = df_pokemon[\"height\"] >= tallest_quartile_height"
   ]
  },
  {
   "cell_type": "markdown",
   "metadata": {},
   "source": [
    "How many Pokemon are in the tallest quartile"
   ]
  },
  {
   "cell_type": "code",
   "execution_count": 27,
   "metadata": {},
   "outputs": [
    {
     "data": {
      "text/plain": [
       "274"
      ]
     },
     "execution_count": 27,
     "metadata": {},
     "output_type": "execute_result"
    }
   ],
   "source": [
    "len(df_pokemon[tallest_quartile_height_index])"
   ]
  },
  {
   "cell_type": "markdown",
   "metadata": {},
   "source": [
    "How many are not in the tallest quartile?\n",
    "\n",
    "In order to select rows that do **not** match an indexer use the '~' aka tilde character."
   ]
  },
  {
   "cell_type": "code",
   "execution_count": 28,
   "metadata": {},
   "outputs": [
    {
     "data": {
      "text/plain": [
       "690"
      ]
     },
     "execution_count": 28,
     "metadata": {},
     "output_type": "execute_result"
    }
   ],
   "source": [
    "len(df_pokemon[~tallest_quartile_height_index])"
   ]
  },
  {
   "cell_type": "markdown",
   "metadata": {},
   "source": [
    "# Grouping  and Aggregation\n",
    "\n",
    "Let's apply some grouping by height and weight"
   ]
  },
  {
   "cell_type": "code",
   "execution_count": 29,
   "metadata": {},
   "outputs": [
    {
     "data": {
      "text/plain": [
       "<pandas.core.groupby.groupby.DataFrameGroupBy object at 0x000002109827F400>"
      ]
     },
     "execution_count": 29,
     "metadata": {},
     "output_type": "execute_result"
    }
   ],
   "source": [
    "df_pokemon.groupby([\"height\", \"weight\"])"
   ]
  },
  {
   "cell_type": "markdown",
   "metadata": {},
   "source": [
    "## Counting in Groups\n",
    "However we need to apply an operation to the Grouping in order for it be useful. So let's count.\n",
    "\n",
    "The call to the count is wrapped in a DataFrame so it displays in a formatted table."
   ]
  },
  {
   "cell_type": "code",
   "execution_count": 30,
   "metadata": {},
   "outputs": [
    {
     "data": {
      "text/html": [
       "<div>\n",
       "<style scoped>\n",
       "    .dataframe tbody tr th:only-of-type {\n",
       "        vertical-align: middle;\n",
       "    }\n",
       "\n",
       "    .dataframe tbody tr th {\n",
       "        vertical-align: top;\n",
       "    }\n",
       "\n",
       "    .dataframe thead th {\n",
       "        text-align: right;\n",
       "    }\n",
       "</style>\n",
       "<table border=\"1\" class=\"dataframe\">\n",
       "  <thead>\n",
       "    <tr style=\"text-align: right;\">\n",
       "      <th></th>\n",
       "      <th></th>\n",
       "      <th>identifier</th>\n",
       "    </tr>\n",
       "    <tr>\n",
       "      <th>height</th>\n",
       "      <th>weight</th>\n",
       "      <th></th>\n",
       "    </tr>\n",
       "  </thead>\n",
       "  <tbody>\n",
       "    <tr>\n",
       "      <th rowspan=\"5\" valign=\"top\">1</th>\n",
       "      <th>1</th>\n",
       "      <td>1</td>\n",
       "    </tr>\n",
       "    <tr>\n",
       "      <th>2</th>\n",
       "      <td>1</td>\n",
       "    </tr>\n",
       "    <tr>\n",
       "      <th>3</th>\n",
       "      <td>1</td>\n",
       "    </tr>\n",
       "    <tr>\n",
       "      <th>6</th>\n",
       "      <td>1</td>\n",
       "    </tr>\n",
       "    <tr>\n",
       "      <th>9999</th>\n",
       "      <td>1</td>\n",
       "    </tr>\n",
       "    <tr>\n",
       "      <th rowspan=\"5\" valign=\"top\">2</th>\n",
       "      <th>1</th>\n",
       "      <td>1</td>\n",
       "    </tr>\n",
       "    <tr>\n",
       "      <th>3</th>\n",
       "      <td>2</td>\n",
       "    </tr>\n",
       "    <tr>\n",
       "      <th>5</th>\n",
       "      <td>2</td>\n",
       "    </tr>\n",
       "    <tr>\n",
       "      <th>6</th>\n",
       "      <td>1</td>\n",
       "    </tr>\n",
       "    <tr>\n",
       "      <th>7</th>\n",
       "      <td>2</td>\n",
       "    </tr>\n",
       "  </tbody>\n",
       "</table>\n",
       "</div>"
      ],
      "text/plain": [
       "               identifier\n",
       "height weight            \n",
       "1      1                1\n",
       "       2                1\n",
       "       3                1\n",
       "       6                1\n",
       "       9999             1\n",
       "2      1                1\n",
       "       3                2\n",
       "       5                2\n",
       "       6                1\n",
       "       7                2"
      ]
     },
     "execution_count": 30,
     "metadata": {},
     "output_type": "execute_result"
    }
   ],
   "source": [
    "df_pokemon_grouped_height_weight = pd.DataFrame(\n",
    "    df_pokemon.groupby([\"height\", \"weight\"])[\"identifier\"].count()\n",
    ")\n",
    "\n",
    "# lets look at the first ten 10 rows\n",
    "df_pokemon_grouped_height_weight.head(10)"
   ]
  },
  {
   "cell_type": "markdown",
   "metadata": {},
   "source": [
    "This DataFrame is a little different to the ones we've seen thus far. As it has two indexes, the columns we grouped by:"
   ]
  },
  {
   "cell_type": "code",
   "execution_count": 31,
   "metadata": {},
   "outputs": [
    {
     "data": {
      "text/plain": [
       "FrozenList(['height', 'weight'])"
      ]
     },
     "execution_count": 31,
     "metadata": {},
     "output_type": "execute_result"
    }
   ],
   "source": [
    "df_pokemon_grouped_height_weight.index.names"
   ]
  },
  {
   "cell_type": "markdown",
   "metadata": {},
   "source": [
    "## Selecting Record with a MultiIndex"
   ]
  },
  {
   "cell_type": "code",
   "execution_count": 32,
   "metadata": {},
   "outputs": [
    {
     "data": {
      "text/plain": [
       "identifier    1\n",
       "Name: (1, 9999), dtype: int64"
      ]
     },
     "execution_count": 32,
     "metadata": {},
     "output_type": "execute_result"
    }
   ],
   "source": [
    "df_pokemon_grouped_height_weight.loc[(1,9999)]"
   ]
  },
  {
   "cell_type": "markdown",
   "metadata": {},
   "source": [
    "Surely this must be an exceptional Pokemon in terms of weight?"
   ]
  },
  {
   "cell_type": "code",
   "execution_count": 33,
   "metadata": {},
   "outputs": [
    {
     "data": {
      "text/plain": [
       "count     964.000000\n",
       "mean      677.140041\n",
       "std      1228.033923\n",
       "min         1.000000\n",
       "25%        85.750000\n",
       "50%       289.000000\n",
       "75%       680.500000\n",
       "max      9999.000000\n",
       "Name: weight, dtype: float64"
      ]
     },
     "execution_count": 33,
     "metadata": {},
     "output_type": "execute_result"
    }
   ],
   "source": [
    "df_pokemon[\"weight\"].describe()"
   ]
  },
  {
   "cell_type": "markdown",
   "metadata": {},
   "source": [
    "Seems like it is the heaviest (or one of the heaviest) Pokemon, so which Pokemon is it?"
   ]
  },
  {
   "cell_type": "markdown",
   "metadata": {},
   "source": [
    "## Select a Record by Query\n",
    "\n",
    "That 1 pokemon with a height of 1 and a weight of 9999 is curious, what is it?\n",
    "\n",
    "We could look it up using multiple indexes or we could write a query."
   ]
  },
  {
   "cell_type": "code",
   "execution_count": 34,
   "metadata": {},
   "outputs": [
    {
     "data": {
      "text/html": [
       "<div>\n",
       "<style scoped>\n",
       "    .dataframe tbody tr th:only-of-type {\n",
       "        vertical-align: middle;\n",
       "    }\n",
       "\n",
       "    .dataframe tbody tr th {\n",
       "        vertical-align: top;\n",
       "    }\n",
       "\n",
       "    .dataframe thead th {\n",
       "        text-align: right;\n",
       "    }\n",
       "</style>\n",
       "<table border=\"1\" class=\"dataframe\">\n",
       "  <thead>\n",
       "    <tr style=\"text-align: right;\">\n",
       "      <th></th>\n",
       "      <th>identifier</th>\n",
       "      <th>species_id</th>\n",
       "      <th>height</th>\n",
       "      <th>weight</th>\n",
       "      <th>base_experience</th>\n",
       "      <th>order</th>\n",
       "      <th>is_default</th>\n",
       "    </tr>\n",
       "    <tr>\n",
       "      <th>id</th>\n",
       "      <th></th>\n",
       "      <th></th>\n",
       "      <th></th>\n",
       "      <th></th>\n",
       "      <th></th>\n",
       "      <th></th>\n",
       "      <th></th>\n",
       "    </tr>\n",
       "  </thead>\n",
       "  <tbody>\n",
       "    <tr>\n",
       "      <th>790</th>\n",
       "      <td>cosmoem</td>\n",
       "      <td>790</td>\n",
       "      <td>1</td>\n",
       "      <td>9999</td>\n",
       "      <td>140</td>\n",
       "      <td>937</td>\n",
       "      <td>1</td>\n",
       "    </tr>\n",
       "  </tbody>\n",
       "</table>\n",
       "</div>"
      ],
      "text/plain": [
       "    identifier  species_id  height  weight  base_experience  order  is_default\n",
       "id                                                                            \n",
       "790    cosmoem         790       1    9999              140    937           1"
      ]
     },
     "execution_count": 34,
     "metadata": {},
     "output_type": "execute_result"
    }
   ],
   "source": [
    "df_pokemon.query(\"height == 1 and weight == 9999\")"
   ]
  },
  {
   "cell_type": "markdown",
   "metadata": {},
   "source": [
    "So which Pokemon happen to be...\n",
    "<img src=\"http://i0.kym-cdn.com/entries/icons/original/000/000/056/itsover1000.jpg\"/>\n",
    "\n",
    "image credit: http://knowyourmeme.com/memes/its-over-9000"
   ]
  },
  {
   "cell_type": "code",
   "execution_count": 35,
   "metadata": {},
   "outputs": [
    {
     "data": {
      "text/html": [
       "<div>\n",
       "<style scoped>\n",
       "    .dataframe tbody tr th:only-of-type {\n",
       "        vertical-align: middle;\n",
       "    }\n",
       "\n",
       "    .dataframe tbody tr th {\n",
       "        vertical-align: top;\n",
       "    }\n",
       "\n",
       "    .dataframe thead th {\n",
       "        text-align: right;\n",
       "    }\n",
       "</style>\n",
       "<table border=\"1\" class=\"dataframe\">\n",
       "  <thead>\n",
       "    <tr style=\"text-align: right;\">\n",
       "      <th></th>\n",
       "      <th>identifier</th>\n",
       "      <th>species_id</th>\n",
       "      <th>height</th>\n",
       "      <th>weight</th>\n",
       "      <th>base_experience</th>\n",
       "      <th>order</th>\n",
       "      <th>is_default</th>\n",
       "    </tr>\n",
       "    <tr>\n",
       "      <th>id</th>\n",
       "      <th></th>\n",
       "      <th></th>\n",
       "      <th></th>\n",
       "      <th></th>\n",
       "      <th></th>\n",
       "      <th></th>\n",
       "      <th></th>\n",
       "    </tr>\n",
       "  </thead>\n",
       "  <tbody>\n",
       "    <tr>\n",
       "      <th>383</th>\n",
       "      <td>groudon</td>\n",
       "      <td>383</td>\n",
       "      <td>35</td>\n",
       "      <td>9500</td>\n",
       "      <td>302</td>\n",
       "      <td>485</td>\n",
       "      <td>1</td>\n",
       "    </tr>\n",
       "    <tr>\n",
       "      <th>750</th>\n",
       "      <td>mudsdale</td>\n",
       "      <td>750</td>\n",
       "      <td>25</td>\n",
       "      <td>9200</td>\n",
       "      <td>175</td>\n",
       "      <td>876</td>\n",
       "      <td>1</td>\n",
       "    </tr>\n",
       "    <tr>\n",
       "      <th>790</th>\n",
       "      <td>cosmoem</td>\n",
       "      <td>790</td>\n",
       "      <td>1</td>\n",
       "      <td>9999</td>\n",
       "      <td>140</td>\n",
       "      <td>937</td>\n",
       "      <td>1</td>\n",
       "    </tr>\n",
       "    <tr>\n",
       "      <th>797</th>\n",
       "      <td>celesteela</td>\n",
       "      <td>797</td>\n",
       "      <td>92</td>\n",
       "      <td>9999</td>\n",
       "      <td>257</td>\n",
       "      <td>944</td>\n",
       "      <td>1</td>\n",
       "    </tr>\n",
       "    <tr>\n",
       "      <th>10076</th>\n",
       "      <td>metagross-mega</td>\n",
       "      <td>376</td>\n",
       "      <td>25</td>\n",
       "      <td>9429</td>\n",
       "      <td>315</td>\n",
       "      <td>475</td>\n",
       "      <td>0</td>\n",
       "    </tr>\n",
       "    <tr>\n",
       "      <th>10078</th>\n",
       "      <td>groudon-primal</td>\n",
       "      <td>383</td>\n",
       "      <td>50</td>\n",
       "      <td>9997</td>\n",
       "      <td>347</td>\n",
       "      <td>486</td>\n",
       "      <td>0</td>\n",
       "    </tr>\n",
       "  </tbody>\n",
       "</table>\n",
       "</div>"
      ],
      "text/plain": [
       "           identifier  species_id  height  weight  base_experience  order  \\\n",
       "id                                                                          \n",
       "383           groudon         383      35    9500              302    485   \n",
       "750          mudsdale         750      25    9200              175    876   \n",
       "790           cosmoem         790       1    9999              140    937   \n",
       "797        celesteela         797      92    9999              257    944   \n",
       "10076  metagross-mega         376      25    9429              315    475   \n",
       "10078  groudon-primal         383      50    9997              347    486   \n",
       "\n",
       "       is_default  \n",
       "id                 \n",
       "383             1  \n",
       "750             1  \n",
       "790             1  \n",
       "797             1  \n",
       "10076           0  \n",
       "10078           0  "
      ]
     },
     "execution_count": 35,
     "metadata": {},
     "output_type": "execute_result"
    }
   ],
   "source": [
    "df_pokemon.query(\"weight >= 9000\")"
   ]
  },
  {
   "cell_type": "markdown",
   "metadata": {},
   "source": [
    "## Renaming columns\n",
    "\n",
    "The counted identifiers doesn't have a descriptive column name, so lets rename it."
   ]
  },
  {
   "cell_type": "markdown",
   "metadata": {},
   "source": [
    "What columns do we have in our grouped DataFrame?"
   ]
  },
  {
   "cell_type": "code",
   "execution_count": 36,
   "metadata": {},
   "outputs": [
    {
     "data": {
      "text/plain": [
       "Index(['identifier'], dtype='object')"
      ]
     },
     "execution_count": 36,
     "metadata": {},
     "output_type": "execute_result"
    }
   ],
   "source": [
    "df_pokemon_grouped_height_weight.columns"
   ]
  },
  {
   "cell_type": "markdown",
   "metadata": {},
   "source": [
    "Let's rename that column by passing a list with the new column name.\n",
    "If we had multiple columns we'd need to pass all of the column names in."
   ]
  },
  {
   "cell_type": "code",
   "execution_count": 37,
   "metadata": {},
   "outputs": [
    {
     "data": {
      "text/html": [
       "<div>\n",
       "<style scoped>\n",
       "    .dataframe tbody tr th:only-of-type {\n",
       "        vertical-align: middle;\n",
       "    }\n",
       "\n",
       "    .dataframe tbody tr th {\n",
       "        vertical-align: top;\n",
       "    }\n",
       "\n",
       "    .dataframe thead th {\n",
       "        text-align: right;\n",
       "    }\n",
       "</style>\n",
       "<table border=\"1\" class=\"dataframe\">\n",
       "  <thead>\n",
       "    <tr style=\"text-align: right;\">\n",
       "      <th></th>\n",
       "      <th></th>\n",
       "      <th>pokemon_count</th>\n",
       "    </tr>\n",
       "    <tr>\n",
       "      <th>height</th>\n",
       "      <th>weight</th>\n",
       "      <th></th>\n",
       "    </tr>\n",
       "  </thead>\n",
       "  <tbody>\n",
       "    <tr>\n",
       "      <th rowspan=\"5\" valign=\"top\">1</th>\n",
       "      <th>1</th>\n",
       "      <td>1</td>\n",
       "    </tr>\n",
       "    <tr>\n",
       "      <th>2</th>\n",
       "      <td>1</td>\n",
       "    </tr>\n",
       "    <tr>\n",
       "      <th>3</th>\n",
       "      <td>1</td>\n",
       "    </tr>\n",
       "    <tr>\n",
       "      <th>6</th>\n",
       "      <td>1</td>\n",
       "    </tr>\n",
       "    <tr>\n",
       "      <th>9999</th>\n",
       "      <td>1</td>\n",
       "    </tr>\n",
       "    <tr>\n",
       "      <th rowspan=\"5\" valign=\"top\">2</th>\n",
       "      <th>1</th>\n",
       "      <td>1</td>\n",
       "    </tr>\n",
       "    <tr>\n",
       "      <th>3</th>\n",
       "      <td>2</td>\n",
       "    </tr>\n",
       "    <tr>\n",
       "      <th>5</th>\n",
       "      <td>2</td>\n",
       "    </tr>\n",
       "    <tr>\n",
       "      <th>6</th>\n",
       "      <td>1</td>\n",
       "    </tr>\n",
       "    <tr>\n",
       "      <th>7</th>\n",
       "      <td>2</td>\n",
       "    </tr>\n",
       "  </tbody>\n",
       "</table>\n",
       "</div>"
      ],
      "text/plain": [
       "               pokemon_count\n",
       "height weight               \n",
       "1      1                   1\n",
       "       2                   1\n",
       "       3                   1\n",
       "       6                   1\n",
       "       9999                1\n",
       "2      1                   1\n",
       "       3                   2\n",
       "       5                   2\n",
       "       6                   1\n",
       "       7                   2"
      ]
     },
     "execution_count": 37,
     "metadata": {},
     "output_type": "execute_result"
    }
   ],
   "source": [
    "df_pokemon_grouped_height_weight.columns = [\"pokemon_count\"]\n",
    "df_pokemon_grouped_height_weight.head(10)"
   ]
  },
  {
   "cell_type": "markdown",
   "metadata": {},
   "source": [
    "# Basic Plotting"
   ]
  },
  {
   "cell_type": "markdown",
   "metadata": {},
   "source": [
    "A pairplot is a simple way to visualise the distrubtions and pairwise relationships between variables."
   ]
  },
  {
   "cell_type": "code",
   "execution_count": 38,
   "metadata": {
    "scrolled": false
   },
   "outputs": [
    {
     "data": {
      "text/plain": [
       "<seaborn.axisgrid.PairGrid at 0x2109829e710>"
      ]
     },
     "execution_count": 38,
     "metadata": {},
     "output_type": "execute_result"
    },
    {
     "data": {
      "image/png": "[encoded data removed]",
      "text/plain": [
       "<Figure size 1080x1080 with 42 Axes>"
      ]
     },
     "metadata": {
      "needs_background": "light"
     },
     "output_type": "display_data"
    }
   ],
   "source": [
    "plt.ion()\n",
    "sns.pairplot(df_pokemon)"
   ]
  },
  {
   "cell_type": "markdown",
   "metadata": {},
   "source": [
    "We've got interactions that don't make for sensible plots.\n",
    "* `is_default` is a binary value (1 or 0 aka True or False), a scatter plot doesn't make sense.\n",
    "* `species_id` while numeric, seems to be an ordinal value (https://en.wikipedia.org/wiki/Ordinal_data), the \"distance\" between two values is not readily understandable or possibly even comparable.\n",
    "\n",
    "So let's only select specific columns"
   ]
  },
  {
   "cell_type": "code",
   "execution_count": 39,
   "metadata": {},
   "outputs": [
    {
     "data": {
      "text/plain": [
       "<seaborn.axisgrid.PairGrid at 0x210994e9d68>"
      ]
     },
     "execution_count": 39,
     "metadata": {},
     "output_type": "execute_result"
    },
    {
     "data": {
      "image/png": "[encoded data removed]",
      "text/plain": [
       "<Figure size 540x540 with 12 Axes>"
      ]
     },
     "metadata": {
      "needs_background": "light"
     },
     "output_type": "display_data"
    }
   ],
   "source": [
    "sns.pairplot(df_pokemon[[\"height\", \"weight\", \"base_experience\"]])"
   ]
  },
  {
   "cell_type": "markdown",
   "metadata": {},
   "source": [
    "Looking at the distributions (bar chat looking subplots aka histograms), the distribution of values tend to congregate in clumps.\n",
    "\n",
    "However for base_experience we've two peaks? Do we perhaps 2 subgroups in our dataset?"
   ]
  },
  {
   "cell_type": "code",
   "execution_count": 40,
   "metadata": {},
   "outputs": [],
   "source": [
    "def displot(df, column, ax, column2 = None):\n",
    "    if column2 is not None:\n",
    "        result = sns.distplot(df[column], df[column2], ax = ax)\n",
    "    else:\n",
    "        result = sns.distplot(df[column], ax = ax)\n",
    "        \n",
    "    return result"
   ]
  },
  {
   "cell_type": "code",
   "execution_count": 41,
   "metadata": {},
   "outputs": [
    {
     "name": "stderr",
     "output_type": "stream",
     "text": [
      "C:\\ProgramData\\Anaconda3\\lib\\site-packages\\scipy\\stats\\stats.py:1713: FutureWarning: Using a non-tuple sequence for multidimensional indexing is deprecated; use `arr[tuple(seq)]` instead of `arr[seq]`. In the future this will be interpreted as an array index, `arr[np.array(seq)]`, which will result either in an error or a different result.\n",
      "  return np.add.reduce(sorted[indexer] * weights, axis=axis) / sumval\n"
     ]
    },
    {
     "data": {
      "image/png": "[encoded data removed]",
      "text/plain": [
       "<Figure size 1080x792 with 3 Axes>"
      ]
     },
     "metadata": {
      "needs_background": "light"
     },
     "output_type": "display_data"
    }
   ],
   "source": [
    "# I want to control the layout of the plots\n",
    "plt.ioff()\n",
    "fig, (ax1, ax2, ax3) = plt.subplots(ncols=1, nrows=3, figsize = (15, 11), sharex=False)\n",
    "displot(df_pokemon, \"height\", ax1)\n",
    "displot(df_pokemon, \"weight\", ax2)\n",
    "displot(df_pokemon, \"base_experience\", ax3)\n",
    "fig.subplots_adjust(hspace = 0.5)"
   ]
  },
  {
   "cell_type": "markdown",
   "metadata": {},
   "source": [
    "# Correlations\n",
    "\n",
    "As you may recall we have a number of Pikachus"
   ]
  },
  {
   "cell_type": "code",
   "execution_count": 42,
   "metadata": {},
   "outputs": [
    {
     "data": {
      "text/html": [
       "<div>\n",
       "<style scoped>\n",
       "    .dataframe tbody tr th:only-of-type {\n",
       "        vertical-align: middle;\n",
       "    }\n",
       "\n",
       "    .dataframe tbody tr th {\n",
       "        vertical-align: top;\n",
       "    }\n",
       "\n",
       "    .dataframe thead th {\n",
       "        text-align: right;\n",
       "    }\n",
       "</style>\n",
       "<table border=\"1\" class=\"dataframe\">\n",
       "  <thead>\n",
       "    <tr style=\"text-align: right;\">\n",
       "      <th></th>\n",
       "      <th>identifier</th>\n",
       "      <th>species_id</th>\n",
       "      <th>height</th>\n",
       "      <th>weight</th>\n",
       "      <th>base_experience</th>\n",
       "      <th>order</th>\n",
       "      <th>is_default</th>\n",
       "    </tr>\n",
       "    <tr>\n",
       "      <th>id</th>\n",
       "      <th></th>\n",
       "      <th></th>\n",
       "      <th></th>\n",
       "      <th></th>\n",
       "      <th></th>\n",
       "      <th></th>\n",
       "      <th></th>\n",
       "    </tr>\n",
       "  </thead>\n",
       "  <tbody>\n",
       "    <tr>\n",
       "      <th>25</th>\n",
       "      <td>pikachu</td>\n",
       "      <td>25</td>\n",
       "      <td>4</td>\n",
       "      <td>60</td>\n",
       "      <td>112</td>\n",
       "      <td>35</td>\n",
       "      <td>1</td>\n",
       "    </tr>\n",
       "    <tr>\n",
       "      <th>10080</th>\n",
       "      <td>pikachu-rock-star</td>\n",
       "      <td>25</td>\n",
       "      <td>4</td>\n",
       "      <td>60</td>\n",
       "      <td>112</td>\n",
       "      <td>37</td>\n",
       "      <td>0</td>\n",
       "    </tr>\n",
       "    <tr>\n",
       "      <th>10081</th>\n",
       "      <td>pikachu-belle</td>\n",
       "      <td>25</td>\n",
       "      <td>4</td>\n",
       "      <td>60</td>\n",
       "      <td>112</td>\n",
       "      <td>38</td>\n",
       "      <td>0</td>\n",
       "    </tr>\n",
       "    <tr>\n",
       "      <th>10082</th>\n",
       "      <td>pikachu-pop-star</td>\n",
       "      <td>25</td>\n",
       "      <td>4</td>\n",
       "      <td>60</td>\n",
       "      <td>112</td>\n",
       "      <td>39</td>\n",
       "      <td>0</td>\n",
       "    </tr>\n",
       "    <tr>\n",
       "      <th>10083</th>\n",
       "      <td>pikachu-phd</td>\n",
       "      <td>25</td>\n",
       "      <td>4</td>\n",
       "      <td>60</td>\n",
       "      <td>112</td>\n",
       "      <td>40</td>\n",
       "      <td>0</td>\n",
       "    </tr>\n",
       "    <tr>\n",
       "      <th>10084</th>\n",
       "      <td>pikachu-libre</td>\n",
       "      <td>25</td>\n",
       "      <td>4</td>\n",
       "      <td>60</td>\n",
       "      <td>112</td>\n",
       "      <td>41</td>\n",
       "      <td>0</td>\n",
       "    </tr>\n",
       "    <tr>\n",
       "      <th>10085</th>\n",
       "      <td>pikachu-cosplay</td>\n",
       "      <td>25</td>\n",
       "      <td>4</td>\n",
       "      <td>60</td>\n",
       "      <td>112</td>\n",
       "      <td>36</td>\n",
       "      <td>0</td>\n",
       "    </tr>\n",
       "    <tr>\n",
       "      <th>10094</th>\n",
       "      <td>pikachu-original-cap</td>\n",
       "      <td>25</td>\n",
       "      <td>4</td>\n",
       "      <td>60</td>\n",
       "      <td>112</td>\n",
       "      <td>36</td>\n",
       "      <td>0</td>\n",
       "    </tr>\n",
       "    <tr>\n",
       "      <th>10095</th>\n",
       "      <td>pikachu-hoenn-cap</td>\n",
       "      <td>25</td>\n",
       "      <td>4</td>\n",
       "      <td>60</td>\n",
       "      <td>112</td>\n",
       "      <td>37</td>\n",
       "      <td>0</td>\n",
       "    </tr>\n",
       "    <tr>\n",
       "      <th>10096</th>\n",
       "      <td>pikachu-sinnoh-cap</td>\n",
       "      <td>25</td>\n",
       "      <td>4</td>\n",
       "      <td>60</td>\n",
       "      <td>112</td>\n",
       "      <td>38</td>\n",
       "      <td>0</td>\n",
       "    </tr>\n",
       "    <tr>\n",
       "      <th>10097</th>\n",
       "      <td>pikachu-unova-cap</td>\n",
       "      <td>25</td>\n",
       "      <td>4</td>\n",
       "      <td>60</td>\n",
       "      <td>112</td>\n",
       "      <td>39</td>\n",
       "      <td>0</td>\n",
       "    </tr>\n",
       "    <tr>\n",
       "      <th>10098</th>\n",
       "      <td>pikachu-kalos-cap</td>\n",
       "      <td>25</td>\n",
       "      <td>4</td>\n",
       "      <td>60</td>\n",
       "      <td>112</td>\n",
       "      <td>40</td>\n",
       "      <td>0</td>\n",
       "    </tr>\n",
       "    <tr>\n",
       "      <th>10099</th>\n",
       "      <td>pikachu-alola-cap</td>\n",
       "      <td>25</td>\n",
       "      <td>4</td>\n",
       "      <td>60</td>\n",
       "      <td>112</td>\n",
       "      <td>41</td>\n",
       "      <td>0</td>\n",
       "    </tr>\n",
       "    <tr>\n",
       "      <th>10148</th>\n",
       "      <td>pikachu-partner-cap</td>\n",
       "      <td>25</td>\n",
       "      <td>4</td>\n",
       "      <td>60</td>\n",
       "      <td>112</td>\n",
       "      <td>42</td>\n",
       "      <td>0</td>\n",
       "    </tr>\n",
       "  </tbody>\n",
       "</table>\n",
       "</div>"
      ],
      "text/plain": [
       "                 identifier  species_id  height  weight  base_experience  \\\n",
       "id                                                                         \n",
       "25                  pikachu          25       4      60              112   \n",
       "10080     pikachu-rock-star          25       4      60              112   \n",
       "10081         pikachu-belle          25       4      60              112   \n",
       "10082      pikachu-pop-star          25       4      60              112   \n",
       "10083           pikachu-phd          25       4      60              112   \n",
       "10084         pikachu-libre          25       4      60              112   \n",
       "10085       pikachu-cosplay          25       4      60              112   \n",
       "10094  pikachu-original-cap          25       4      60              112   \n",
       "10095     pikachu-hoenn-cap          25       4      60              112   \n",
       "10096    pikachu-sinnoh-cap          25       4      60              112   \n",
       "10097     pikachu-unova-cap          25       4      60              112   \n",
       "10098     pikachu-kalos-cap          25       4      60              112   \n",
       "10099     pikachu-alola-cap          25       4      60              112   \n",
       "10148   pikachu-partner-cap          25       4      60              112   \n",
       "\n",
       "       order  is_default  \n",
       "id                        \n",
       "25        35           1  \n",
       "10080     37           0  \n",
       "10081     38           0  \n",
       "10082     39           0  \n",
       "10083     40           0  \n",
       "10084     41           0  \n",
       "10085     36           0  \n",
       "10094     36           0  \n",
       "10095     37           0  \n",
       "10096     38           0  \n",
       "10097     39           0  \n",
       "10098     40           0  \n",
       "10099     41           0  \n",
       "10148     42           0  "
      ]
     },
     "execution_count": 42,
     "metadata": {},
     "output_type": "execute_result"
    }
   ],
   "source": [
    "df_pikachus"
   ]
  },
  {
   "cell_type": "markdown",
   "metadata": {},
   "source": [
    "It seems that there is a relationship between `species_id` and the `id`. All of the Pikachus have a `species_id` of 25, which is the `id` of the first pikachu. \n",
    "\n",
    "Let's see what correlations we have in our dataset. Particularly those correlations with the `id`.\n",
    "\n",
    "The output of `df_pokemon.corr()` will generate a DataFrame of *correlations coefficients* measured from -1.0 to +1.0, indicating the pairwsie relationship between each numerical variable in the DataFrame of pokemons.\n",
    "\n",
    "*Correlations coefficients* are the measure of the strength and direction of a linear relationship between variables.\n",
    "* If the value is positive this denotes a positive relationship between the variables, i.e. increasing values of variable a are correlated with increasing values of variable b.\n",
    "\n",
    "* If the correlation coefficient is closer to 1, it indicates that changes are positively related:\n",
    "    * As variable a increases in value, variable b tends to increase in value.\n",
    "    * As variable a decreases in value, variable b tends to decrease in value.\n",
    "* If the correlation coefficient is closer to 0, it indicates that there isn't a relationship:\n",
    "    * Changes in variable a don't seem to be related to increasing or decreasing values of b.\n",
    "* If the correlation coefficient is closer to -1, it indicates that changes are negatively related:\n",
    "    * As variable a increases in value, variable b tends to decrease in value.\n",
    "    * As variable a decreases in value, variable b tends to increase in value."
   ]
  },
  {
   "cell_type": "code",
   "execution_count": 43,
   "metadata": {},
   "outputs": [
    {
     "data": {
      "text/html": [
       "<div>\n",
       "<style scoped>\n",
       "    .dataframe tbody tr th:only-of-type {\n",
       "        vertical-align: middle;\n",
       "    }\n",
       "\n",
       "    .dataframe tbody tr th {\n",
       "        vertical-align: top;\n",
       "    }\n",
       "\n",
       "    .dataframe thead th {\n",
       "        text-align: right;\n",
       "    }\n",
       "</style>\n",
       "<table border=\"1\" class=\"dataframe\">\n",
       "  <thead>\n",
       "    <tr style=\"text-align: right;\">\n",
       "      <th></th>\n",
       "      <th>species_id</th>\n",
       "      <th>height</th>\n",
       "      <th>weight</th>\n",
       "      <th>base_experience</th>\n",
       "      <th>order</th>\n",
       "      <th>is_default</th>\n",
       "    </tr>\n",
       "  </thead>\n",
       "  <tbody>\n",
       "    <tr>\n",
       "      <th>species_id</th>\n",
       "      <td>1.000000</td>\n",
       "      <td>0.027057</td>\n",
       "      <td>0.102484</td>\n",
       "      <td>0.138612</td>\n",
       "      <td>0.976901</td>\n",
       "      <td>-0.005692</td>\n",
       "    </tr>\n",
       "    <tr>\n",
       "      <th>height</th>\n",
       "      <td>0.027057</td>\n",
       "      <td>1.000000</td>\n",
       "      <td>0.663162</td>\n",
       "      <td>0.491484</td>\n",
       "      <td>0.026529</td>\n",
       "      <td>-0.147441</td>\n",
       "    </tr>\n",
       "    <tr>\n",
       "      <th>weight</th>\n",
       "      <td>0.102484</td>\n",
       "      <td>0.663162</td>\n",
       "      <td>1.000000</td>\n",
       "      <td>0.437724</td>\n",
       "      <td>0.100532</td>\n",
       "      <td>-0.109774</td>\n",
       "    </tr>\n",
       "    <tr>\n",
       "      <th>base_experience</th>\n",
       "      <td>0.138612</td>\n",
       "      <td>0.491484</td>\n",
       "      <td>0.437724</td>\n",
       "      <td>1.000000</td>\n",
       "      <td>0.127581</td>\n",
       "      <td>-0.271400</td>\n",
       "    </tr>\n",
       "    <tr>\n",
       "      <th>order</th>\n",
       "      <td>0.976901</td>\n",
       "      <td>0.026529</td>\n",
       "      <td>0.100532</td>\n",
       "      <td>0.127581</td>\n",
       "      <td>1.000000</td>\n",
       "      <td>-0.017405</td>\n",
       "    </tr>\n",
       "    <tr>\n",
       "      <th>is_default</th>\n",
       "      <td>-0.005692</td>\n",
       "      <td>-0.147441</td>\n",
       "      <td>-0.109774</td>\n",
       "      <td>-0.271400</td>\n",
       "      <td>-0.017405</td>\n",
       "      <td>1.000000</td>\n",
       "    </tr>\n",
       "  </tbody>\n",
       "</table>\n",
       "</div>"
      ],
      "text/plain": [
       "                 species_id    height    weight  base_experience     order  \\\n",
       "species_id         1.000000  0.027057  0.102484         0.138612  0.976901   \n",
       "height             0.027057  1.000000  0.663162         0.491484  0.026529   \n",
       "weight             0.102484  0.663162  1.000000         0.437724  0.100532   \n",
       "base_experience    0.138612  0.491484  0.437724         1.000000  0.127581   \n",
       "order              0.976901  0.026529  0.100532         0.127581  1.000000   \n",
       "is_default        -0.005692 -0.147441 -0.109774        -0.271400 -0.017405   \n",
       "\n",
       "                 is_default  \n",
       "species_id        -0.005692  \n",
       "height            -0.147441  \n",
       "weight            -0.109774  \n",
       "base_experience   -0.271400  \n",
       "order             -0.017405  \n",
       "is_default         1.000000  "
      ]
     },
     "execution_count": 43,
     "metadata": {},
     "output_type": "execute_result"
    }
   ],
   "source": [
    "df_pokemon.corr()"
   ]
  },
  {
   "cell_type": "markdown",
   "metadata": {},
   "source": [
    "But `id` isn't listed above, as we moved `id` to the index - it's not available as a column."
   ]
  },
  {
   "cell_type": "code",
   "execution_count": 44,
   "metadata": {},
   "outputs": [
    {
     "data": {
      "text/plain": [
       "Index(['identifier', 'species_id', 'height', 'weight', 'base_experience',\n",
       "       'order', 'is_default'],\n",
       "      dtype='object')"
      ]
     },
     "execution_count": 44,
     "metadata": {},
     "output_type": "execute_result"
    }
   ],
   "source": [
    "df_pokemon.columns"
   ]
  },
  {
   "cell_type": "markdown",
   "metadata": {},
   "source": [
    "## Resetting an Index\n",
    "\n",
    "So let's reset the index back to an automatic incrementing number so we can use `id` as a column again."
   ]
  },
  {
   "cell_type": "code",
   "execution_count": 45,
   "metadata": {},
   "outputs": [
    {
     "data": {
      "text/html": [
       "<div>\n",
       "<style scoped>\n",
       "    .dataframe tbody tr th:only-of-type {\n",
       "        vertical-align: middle;\n",
       "    }\n",
       "\n",
       "    .dataframe tbody tr th {\n",
       "        vertical-align: top;\n",
       "    }\n",
       "\n",
       "    .dataframe thead th {\n",
       "        text-align: right;\n",
       "    }\n",
       "</style>\n",
       "<table border=\"1\" class=\"dataframe\">\n",
       "  <thead>\n",
       "    <tr style=\"text-align: right;\">\n",
       "      <th></th>\n",
       "      <th>id</th>\n",
       "      <th>identifier</th>\n",
       "      <th>species_id</th>\n",
       "      <th>height</th>\n",
       "      <th>weight</th>\n",
       "      <th>base_experience</th>\n",
       "      <th>order</th>\n",
       "      <th>is_default</th>\n",
       "    </tr>\n",
       "  </thead>\n",
       "  <tbody>\n",
       "    <tr>\n",
       "      <th>0</th>\n",
       "      <td>1</td>\n",
       "      <td>bulbasaur</td>\n",
       "      <td>1</td>\n",
       "      <td>7</td>\n",
       "      <td>69</td>\n",
       "      <td>64</td>\n",
       "      <td>1</td>\n",
       "      <td>1</td>\n",
       "    </tr>\n",
       "    <tr>\n",
       "      <th>1</th>\n",
       "      <td>2</td>\n",
       "      <td>ivysaur</td>\n",
       "      <td>2</td>\n",
       "      <td>10</td>\n",
       "      <td>130</td>\n",
       "      <td>142</td>\n",
       "      <td>2</td>\n",
       "      <td>1</td>\n",
       "    </tr>\n",
       "    <tr>\n",
       "      <th>2</th>\n",
       "      <td>3</td>\n",
       "      <td>venusaur</td>\n",
       "      <td>3</td>\n",
       "      <td>20</td>\n",
       "      <td>1000</td>\n",
       "      <td>236</td>\n",
       "      <td>3</td>\n",
       "      <td>1</td>\n",
       "    </tr>\n",
       "    <tr>\n",
       "      <th>3</th>\n",
       "      <td>4</td>\n",
       "      <td>charmander</td>\n",
       "      <td>4</td>\n",
       "      <td>6</td>\n",
       "      <td>85</td>\n",
       "      <td>62</td>\n",
       "      <td>5</td>\n",
       "      <td>1</td>\n",
       "    </tr>\n",
       "    <tr>\n",
       "      <th>4</th>\n",
       "      <td>5</td>\n",
       "      <td>charmeleon</td>\n",
       "      <td>5</td>\n",
       "      <td>11</td>\n",
       "      <td>190</td>\n",
       "      <td>142</td>\n",
       "      <td>6</td>\n",
       "      <td>1</td>\n",
       "    </tr>\n",
       "  </tbody>\n",
       "</table>\n",
       "</div>"
      ],
      "text/plain": [
       "   id  identifier  species_id  height  weight  base_experience  order  \\\n",
       "0   1   bulbasaur           1       7      69               64      1   \n",
       "1   2     ivysaur           2      10     130              142      2   \n",
       "2   3    venusaur           3      20    1000              236      3   \n",
       "3   4  charmander           4       6      85               62      5   \n",
       "4   5  charmeleon           5      11     190              142      6   \n",
       "\n",
       "   is_default  \n",
       "0           1  \n",
       "1           1  \n",
       "2           1  \n",
       "3           1  \n",
       "4           1  "
      ]
     },
     "execution_count": 45,
     "metadata": {},
     "output_type": "execute_result"
    }
   ],
   "source": [
    "df_pokemon = df_pokemon.reset_index()\n",
    "df_pokemon.head()"
   ]
  },
  {
   "cell_type": "code",
   "execution_count": 46,
   "metadata": {},
   "outputs": [
    {
     "data": {
      "text/html": [
       "<div>\n",
       "<style scoped>\n",
       "    .dataframe tbody tr th:only-of-type {\n",
       "        vertical-align: middle;\n",
       "    }\n",
       "\n",
       "    .dataframe tbody tr th {\n",
       "        vertical-align: top;\n",
       "    }\n",
       "\n",
       "    .dataframe thead th {\n",
       "        text-align: right;\n",
       "    }\n",
       "</style>\n",
       "<table border=\"1\" class=\"dataframe\">\n",
       "  <thead>\n",
       "    <tr style=\"text-align: right;\">\n",
       "      <th></th>\n",
       "      <th>id</th>\n",
       "      <th>species_id</th>\n",
       "      <th>height</th>\n",
       "      <th>weight</th>\n",
       "      <th>base_experience</th>\n",
       "      <th>order</th>\n",
       "      <th>is_default</th>\n",
       "    </tr>\n",
       "  </thead>\n",
       "  <tbody>\n",
       "    <tr>\n",
       "      <th>id</th>\n",
       "      <td>1.000000</td>\n",
       "      <td>0.058617</td>\n",
       "      <td>0.148452</td>\n",
       "      <td>0.116083</td>\n",
       "      <td>0.277686</td>\n",
       "      <td>0.068772</td>\n",
       "      <td>-0.998212</td>\n",
       "    </tr>\n",
       "    <tr>\n",
       "      <th>species_id</th>\n",
       "      <td>0.058617</td>\n",
       "      <td>1.000000</td>\n",
       "      <td>0.027057</td>\n",
       "      <td>0.102484</td>\n",
       "      <td>0.138612</td>\n",
       "      <td>0.976901</td>\n",
       "      <td>-0.005692</td>\n",
       "    </tr>\n",
       "    <tr>\n",
       "      <th>height</th>\n",
       "      <td>0.148452</td>\n",
       "      <td>0.027057</td>\n",
       "      <td>1.000000</td>\n",
       "      <td>0.663162</td>\n",
       "      <td>0.491484</td>\n",
       "      <td>0.026529</td>\n",
       "      <td>-0.147441</td>\n",
       "    </tr>\n",
       "    <tr>\n",
       "      <th>weight</th>\n",
       "      <td>0.116083</td>\n",
       "      <td>0.102484</td>\n",
       "      <td>0.663162</td>\n",
       "      <td>1.000000</td>\n",
       "      <td>0.437724</td>\n",
       "      <td>0.100532</td>\n",
       "      <td>-0.109774</td>\n",
       "    </tr>\n",
       "    <tr>\n",
       "      <th>base_experience</th>\n",
       "      <td>0.277686</td>\n",
       "      <td>0.138612</td>\n",
       "      <td>0.491484</td>\n",
       "      <td>0.437724</td>\n",
       "      <td>1.000000</td>\n",
       "      <td>0.127581</td>\n",
       "      <td>-0.271400</td>\n",
       "    </tr>\n",
       "    <tr>\n",
       "      <th>order</th>\n",
       "      <td>0.068772</td>\n",
       "      <td>0.976901</td>\n",
       "      <td>0.026529</td>\n",
       "      <td>0.100532</td>\n",
       "      <td>0.127581</td>\n",
       "      <td>1.000000</td>\n",
       "      <td>-0.017405</td>\n",
       "    </tr>\n",
       "    <tr>\n",
       "      <th>is_default</th>\n",
       "      <td>-0.998212</td>\n",
       "      <td>-0.005692</td>\n",
       "      <td>-0.147441</td>\n",
       "      <td>-0.109774</td>\n",
       "      <td>-0.271400</td>\n",
       "      <td>-0.017405</td>\n",
       "      <td>1.000000</td>\n",
       "    </tr>\n",
       "  </tbody>\n",
       "</table>\n",
       "</div>"
      ],
      "text/plain": [
       "                       id  species_id    height    weight  base_experience  \\\n",
       "id               1.000000    0.058617  0.148452  0.116083         0.277686   \n",
       "species_id       0.058617    1.000000  0.027057  0.102484         0.138612   \n",
       "height           0.148452    0.027057  1.000000  0.663162         0.491484   \n",
       "weight           0.116083    0.102484  0.663162  1.000000         0.437724   \n",
       "base_experience  0.277686    0.138612  0.491484  0.437724         1.000000   \n",
       "order            0.068772    0.976901  0.026529  0.100532         0.127581   \n",
       "is_default      -0.998212   -0.005692 -0.147441 -0.109774        -0.271400   \n",
       "\n",
       "                    order  is_default  \n",
       "id               0.068772   -0.998212  \n",
       "species_id       0.976901   -0.005692  \n",
       "height           0.026529   -0.147441  \n",
       "weight           0.100532   -0.109774  \n",
       "base_experience  0.127581   -0.271400  \n",
       "order            1.000000   -0.017405  \n",
       "is_default      -0.017405    1.000000  "
      ]
     },
     "execution_count": 46,
     "metadata": {},
     "output_type": "execute_result"
    }
   ],
   "source": [
    "df_pokemon.corr()"
   ]
  },
  {
   "cell_type": "markdown",
   "metadata": {},
   "source": [
    "## Correlation Heatmap\n",
    "This is would be much more effective as a correlation heatmap."
   ]
  },
  {
   "cell_type": "code",
   "execution_count": 47,
   "metadata": {},
   "outputs": [],
   "source": [
    "def plot_correlation(df, title, axis, figure_size = (11, 9)):\n",
    "    global plt\n",
    "    # Generate a mask for the upper triangle\n",
    "    mask = np.zeros_like(df.corr(), dtype=np.bool)\n",
    "    mask[np.triu_indices_from(mask)] = True\n",
    "        \n",
    "    # Generate a custom diverging colormap\n",
    "    cmap = sns.diverging_palette(220, 10, as_cmap=True)\n",
    "\n",
    "    # Draw the heatmap with the mask and correct aspect ratio\n",
    "    result = sns.heatmap(df.corr(), mask=mask, vmin = -1, vmax= 1, cmap=cmap, center=0,\n",
    "                square=True, linewidths=.5, cbar_kws={\"shrink\": .5}, ax = axis)\n",
    "    \n",
    "    result.set_title(title)\n",
    "    \n",
    "    return result"
   ]
  },
  {
   "cell_type": "code",
   "execution_count": 48,
   "metadata": {},
   "outputs": [],
   "source": [
    "plt.ioff()"
   ]
  },
  {
   "cell_type": "code",
   "execution_count": 49,
   "metadata": {},
   "outputs": [
    {
     "data": {
      "text/plain": [
       "<matplotlib.axes._subplots.AxesSubplot at 0x2109b501d68>"
      ]
     },
     "execution_count": 49,
     "metadata": {},
     "output_type": "execute_result"
    },
    {
     "data": {
      "image/png": "[encoded data removed]",
      "text/plain": [
       "<Figure size 792x648 with 2 Axes>"
      ]
     },
     "metadata": {
      "needs_background": "light"
     },
     "output_type": "display_data"
    }
   ],
   "source": [
    "fig, ax1 = plt.subplots(figsize = (11, 9))\n",
    "plot_correlation(df_pokemon, \"All Pokemon Correlation\", figure_size = (11, 9), axis = ax1)"
   ]
  },
  {
   "cell_type": "markdown",
   "metadata": {},
   "source": [
    "There is a strong negative correlation with `is_default` and `id`. Let's look into that.\n",
    "\n",
    "We know that `id` is a unique value, so lets split the data by the values of `is_default`."
   ]
  },
  {
   "cell_type": "code",
   "execution_count": 50,
   "metadata": {},
   "outputs": [
    {
     "data": {
      "text/plain": [
       "array([1, 0], dtype=int64)"
      ]
     },
     "execution_count": 50,
     "metadata": {},
     "output_type": "execute_result"
    }
   ],
   "source": [
    "df_pokemon[\"is_default\"].unique()"
   ]
  },
  {
   "cell_type": "markdown",
   "metadata": {},
   "source": [
    "Lets also look at id where varying values of `is_default`"
   ]
  },
  {
   "cell_type": "code",
   "execution_count": 51,
   "metadata": {},
   "outputs": [
    {
     "data": {
      "text/plain": [
       "count      157.000000\n",
       "mean     10079.000000\n",
       "std         45.466105\n",
       "min      10001.000000\n",
       "25%      10040.000000\n",
       "50%      10079.000000\n",
       "75%      10118.000000\n",
       "max      10157.000000\n",
       "Name: id, dtype: float64"
      ]
     },
     "execution_count": 51,
     "metadata": {},
     "output_type": "execute_result"
    }
   ],
   "source": [
    "df_pokemon.query(\"is_default == 0\")[\"id\"].describe()"
   ]
  },
  {
   "cell_type": "code",
   "execution_count": 52,
   "metadata": {},
   "outputs": [
    {
     "data": {
      "text/plain": [
       "count    807.000000\n",
       "mean     404.000000\n",
       "std      233.105126\n",
       "min        1.000000\n",
       "25%      202.500000\n",
       "50%      404.000000\n",
       "75%      605.500000\n",
       "max      807.000000\n",
       "Name: id, dtype: float64"
      ]
     },
     "execution_count": 52,
     "metadata": {},
     "output_type": "execute_result"
    }
   ],
   "source": [
    "df_pokemon.query(\"is_default == 1\")[\"id\"].describe()"
   ]
  },
  {
   "cell_type": "code",
   "execution_count": 53,
   "metadata": {},
   "outputs": [],
   "source": [
    "def display_figure(fig):\n",
    "    IPython.display.display(fig)"
   ]
  },
  {
   "cell_type": "markdown",
   "metadata": {},
   "source": [
    "You'll notice below that there aren't any correlations for `is_default` as there aren't any changes for `is_default` in our two subsets."
   ]
  },
  {
   "cell_type": "code",
   "execution_count": 54,
   "metadata": {},
   "outputs": [
    {
     "data": {
      "image/png": "[encoded data removed]",
      "text/plain": [
       "<Figure size 1080x648 with 4 Axes>"
      ]
     },
     "metadata": {
      "needs_background": "light"
     },
     "output_type": "display_data"
    }
   ],
   "source": [
    "fig, (ax1, ax2) = plt.subplots(ncols = 2, nrows = 1, figsize = (15, 9), sharey = False)\n",
    "plot_correlation(df_pokemon[df_pokemon[\"is_default\"] == 0], \"is_default == 0\", ax1)\n",
    "plot_correlation(df_pokemon[df_pokemon[\"is_default\"] == 1], \"is_default == 1\", ax2)\n",
    "fig.subplots_adjust(wspace = 0.5)"
   ]
  },
  {
   "cell_type": "markdown",
   "metadata": {},
   "source": [
    "Where `is_default == 0`\n",
    "* `height` and `id` - very weak negative correlation \n",
    "* `weight` and `id` - very weak negative correlation \n",
    "* `base_experience` and `id` - weak negative correlation\n",
    "\n",
    "Where `is_default == 1`\n",
    "* `height` and `id` - very weak positive correlation \n",
    "* `weight` and `id` - weak positive correlation\n",
    "* `base_experience` and `id` - weak positive correlation\n",
    "\n",
    "Let's plot these relationships in some pair plots."
   ]
  },
  {
   "cell_type": "code",
   "execution_count": 55,
   "metadata": {},
   "outputs": [],
   "source": [
    "def pair_plot_correlations(df, columns):\n",
    "    return sns.pairplot(df[columns])"
   ]
  },
  {
   "cell_type": "code",
   "execution_count": 56,
   "metadata": {},
   "outputs": [
    {
     "data": {
      "text/plain": [
       "<Figure size 432x288 with 0 Axes>"
      ]
     },
     "metadata": {},
     "output_type": "display_data"
    }
   ],
   "source": [
    "# some oddities around clearing the plot when switching from interactive\n",
    "# mode off to interactive mode on. Need to look into why\n",
    "plt.clf()\n",
    "plt.cla()\n",
    "plt.close()\n",
    "plt.clf()\n",
    "plt.ion()"
   ]
  },
  {
   "cell_type": "code",
   "execution_count": 57,
   "metadata": {},
   "outputs": [
    {
     "data": {
      "text/plain": [
       "<seaborn.axisgrid.PairGrid at 0x2109b8252e8>"
      ]
     },
     "execution_count": 57,
     "metadata": {},
     "output_type": "execute_result"
    },
    {
     "data": {
      "image/png": "[encoded data removed]",
      "text/plain": [
       "<Figure size 720x720 with 20 Axes>"
      ]
     },
     "metadata": {
      "needs_background": "light"
     },
     "output_type": "display_data"
    }
   ],
   "source": [
    "pair_plot_correlations(df_pokemon[df_pokemon[\"is_default\"] == 1], [\"id\", \"height\", \"weight\", \"base_experience\"])"
   ]
  },
  {
   "cell_type": "code",
   "execution_count": 58,
   "metadata": {},
   "outputs": [
    {
     "data": {
      "text/plain": [
       "<seaborn.axisgrid.PairGrid at 0x2109c4e3f98>"
      ]
     },
     "execution_count": 58,
     "metadata": {},
     "output_type": "execute_result"
    },
    {
     "data": {
      "image/png": "[encoded data removed]",
      "text/plain": [
       "<Figure size 720x720 with 20 Axes>"
      ]
     },
     "metadata": {
      "needs_background": "light"
     },
     "output_type": "display_data"
    }
   ],
   "source": [
    "pair_plot_correlations(df_pokemon[df_pokemon[\"is_default\"] == 0], [\"id\", \"height\", \"weight\", \"base_experience\"])"
   ]
  },
  {
   "cell_type": "markdown",
   "metadata": {},
   "source": [
    "So are the variants (where the `id ` doesn't match the `species_id`) only different in name or is there some other variation?"
   ]
  },
  {
   "cell_type": "code",
   "execution_count": 59,
   "metadata": {},
   "outputs": [],
   "source": [
    "variant_pokemon_index = df_pokemon[\"id\"] != df_pokemon[\"species_id\"]\n",
    "is_default_index = df_pokemon[\"is_default\"] == 1"
   ]
  },
  {
   "cell_type": "markdown",
   "metadata": {},
   "source": [
    "### get_duplicate_indexes\n",
    "\n",
    "For a given DataFrame `df` find which rows have duplicated values for the `columns` (an array/list), keeping the first match."
   ]
  },
  {
   "cell_type": "code",
   "execution_count": 60,
   "metadata": {},
   "outputs": [],
   "source": [
    "def get_duplicate_indexes(df, columns):\n",
    "    return df.duplicated(columns, keep = \"first\")"
   ]
  },
  {
   "cell_type": "code",
   "execution_count": 61,
   "metadata": {},
   "outputs": [],
   "source": [
    "df_duplicated_pokemon = df_pokemon[\n",
    "    get_duplicate_indexes(df_pokemon, [\"species_id\", \"height\", \"weight\", \"base_experience\"])\n",
    "]"
   ]
  },
  {
   "cell_type": "code",
   "execution_count": 62,
   "metadata": {},
   "outputs": [
    {
     "data": {
      "text/html": [
       "<div>\n",
       "<style scoped>\n",
       "    .dataframe tbody tr th:only-of-type {\n",
       "        vertical-align: middle;\n",
       "    }\n",
       "\n",
       "    .dataframe tbody tr th {\n",
       "        vertical-align: top;\n",
       "    }\n",
       "\n",
       "    .dataframe thead th {\n",
       "        text-align: right;\n",
       "    }\n",
       "</style>\n",
       "<table border=\"1\" class=\"dataframe\">\n",
       "  <thead>\n",
       "    <tr style=\"text-align: right;\">\n",
       "      <th></th>\n",
       "      <th>id</th>\n",
       "      <th>identifier</th>\n",
       "      <th>species_id</th>\n",
       "      <th>height</th>\n",
       "      <th>weight</th>\n",
       "      <th>base_experience</th>\n",
       "      <th>order</th>\n",
       "      <th>is_default</th>\n",
       "    </tr>\n",
       "  </thead>\n",
       "  <tbody>\n",
       "    <tr>\n",
       "      <th>807</th>\n",
       "      <td>10001</td>\n",
       "      <td>deoxys-attack</td>\n",
       "      <td>386</td>\n",
       "      <td>17</td>\n",
       "      <td>608</td>\n",
       "      <td>270</td>\n",
       "      <td>491</td>\n",
       "      <td>0</td>\n",
       "    </tr>\n",
       "    <tr>\n",
       "      <th>808</th>\n",
       "      <td>10002</td>\n",
       "      <td>deoxys-defense</td>\n",
       "      <td>386</td>\n",
       "      <td>17</td>\n",
       "      <td>608</td>\n",
       "      <td>270</td>\n",
       "      <td>492</td>\n",
       "      <td>0</td>\n",
       "    </tr>\n",
       "    <tr>\n",
       "      <th>809</th>\n",
       "      <td>10003</td>\n",
       "      <td>deoxys-speed</td>\n",
       "      <td>386</td>\n",
       "      <td>17</td>\n",
       "      <td>608</td>\n",
       "      <td>270</td>\n",
       "      <td>493</td>\n",
       "      <td>0</td>\n",
       "    </tr>\n",
       "    <tr>\n",
       "      <th>810</th>\n",
       "      <td>10004</td>\n",
       "      <td>wormadam-sandy</td>\n",
       "      <td>413</td>\n",
       "      <td>5</td>\n",
       "      <td>65</td>\n",
       "      <td>148</td>\n",
       "      <td>519</td>\n",
       "      <td>0</td>\n",
       "    </tr>\n",
       "    <tr>\n",
       "      <th>811</th>\n",
       "      <td>10005</td>\n",
       "      <td>wormadam-trash</td>\n",
       "      <td>413</td>\n",
       "      <td>5</td>\n",
       "      <td>65</td>\n",
       "      <td>148</td>\n",
       "      <td>520</td>\n",
       "      <td>0</td>\n",
       "    </tr>\n",
       "    <tr>\n",
       "      <th>815</th>\n",
       "      <td>10009</td>\n",
       "      <td>rotom-wash</td>\n",
       "      <td>479</td>\n",
       "      <td>3</td>\n",
       "      <td>3</td>\n",
       "      <td>182</td>\n",
       "      <td>565</td>\n",
       "      <td>0</td>\n",
       "    </tr>\n",
       "    <tr>\n",
       "      <th>816</th>\n",
       "      <td>10010</td>\n",
       "      <td>rotom-frost</td>\n",
       "      <td>479</td>\n",
       "      <td>3</td>\n",
       "      <td>3</td>\n",
       "      <td>182</td>\n",
       "      <td>566</td>\n",
       "      <td>0</td>\n",
       "    </tr>\n",
       "    <tr>\n",
       "      <th>817</th>\n",
       "      <td>10011</td>\n",
       "      <td>rotom-fan</td>\n",
       "      <td>479</td>\n",
       "      <td>3</td>\n",
       "      <td>3</td>\n",
       "      <td>182</td>\n",
       "      <td>567</td>\n",
       "      <td>0</td>\n",
       "    </tr>\n",
       "    <tr>\n",
       "      <th>818</th>\n",
       "      <td>10012</td>\n",
       "      <td>rotom-mow</td>\n",
       "      <td>479</td>\n",
       "      <td>3</td>\n",
       "      <td>3</td>\n",
       "      <td>182</td>\n",
       "      <td>568</td>\n",
       "      <td>0</td>\n",
       "    </tr>\n",
       "    <tr>\n",
       "      <th>819</th>\n",
       "      <td>10013</td>\n",
       "      <td>castform-sunny</td>\n",
       "      <td>351</td>\n",
       "      <td>3</td>\n",
       "      <td>8</td>\n",
       "      <td>147</td>\n",
       "      <td>441</td>\n",
       "      <td>0</td>\n",
       "    </tr>\n",
       "    <tr>\n",
       "      <th>820</th>\n",
       "      <td>10014</td>\n",
       "      <td>castform-rainy</td>\n",
       "      <td>351</td>\n",
       "      <td>3</td>\n",
       "      <td>8</td>\n",
       "      <td>147</td>\n",
       "      <td>442</td>\n",
       "      <td>0</td>\n",
       "    </tr>\n",
       "    <tr>\n",
       "      <th>821</th>\n",
       "      <td>10015</td>\n",
       "      <td>castform-snowy</td>\n",
       "      <td>351</td>\n",
       "      <td>3</td>\n",
       "      <td>8</td>\n",
       "      <td>147</td>\n",
       "      <td>443</td>\n",
       "      <td>0</td>\n",
       "    </tr>\n",
       "    <tr>\n",
       "      <th>822</th>\n",
       "      <td>10016</td>\n",
       "      <td>basculin-blue-striped</td>\n",
       "      <td>550</td>\n",
       "      <td>10</td>\n",
       "      <td>180</td>\n",
       "      <td>161</td>\n",
       "      <td>643</td>\n",
       "      <td>0</td>\n",
       "    </tr>\n",
       "    <tr>\n",
       "      <th>824</th>\n",
       "      <td>10018</td>\n",
       "      <td>meloetta-pirouette</td>\n",
       "      <td>648</td>\n",
       "      <td>6</td>\n",
       "      <td>65</td>\n",
       "      <td>270</td>\n",
       "      <td>749</td>\n",
       "      <td>0</td>\n",
       "    </tr>\n",
       "    <tr>\n",
       "      <th>830</th>\n",
       "      <td>10024</td>\n",
       "      <td>keldeo-resolute</td>\n",
       "      <td>647</td>\n",
       "      <td>14</td>\n",
       "      <td>485</td>\n",
       "      <td>261</td>\n",
       "      <td>747</td>\n",
       "      <td>0</td>\n",
       "    </tr>\n",
       "    <tr>\n",
       "      <th>831</th>\n",
       "      <td>10025</td>\n",
       "      <td>meowstic-female</td>\n",
       "      <td>678</td>\n",
       "      <td>6</td>\n",
       "      <td>85</td>\n",
       "      <td>163</td>\n",
       "      <td>783</td>\n",
       "      <td>0</td>\n",
       "    </tr>\n",
       "    <tr>\n",
       "      <th>832</th>\n",
       "      <td>10026</td>\n",
       "      <td>aegislash-blade</td>\n",
       "      <td>681</td>\n",
       "      <td>17</td>\n",
       "      <td>530</td>\n",
       "      <td>234</td>\n",
       "      <td>787</td>\n",
       "      <td>0</td>\n",
       "    </tr>\n",
       "    <tr>\n",
       "      <th>886</th>\n",
       "      <td>10080</td>\n",
       "      <td>pikachu-rock-star</td>\n",
       "      <td>25</td>\n",
       "      <td>4</td>\n",
       "      <td>60</td>\n",
       "      <td>112</td>\n",
       "      <td>37</td>\n",
       "      <td>0</td>\n",
       "    </tr>\n",
       "    <tr>\n",
       "      <th>887</th>\n",
       "      <td>10081</td>\n",
       "      <td>pikachu-belle</td>\n",
       "      <td>25</td>\n",
       "      <td>4</td>\n",
       "      <td>60</td>\n",
       "      <td>112</td>\n",
       "      <td>38</td>\n",
       "      <td>0</td>\n",
       "    </tr>\n",
       "    <tr>\n",
       "      <th>888</th>\n",
       "      <td>10082</td>\n",
       "      <td>pikachu-pop-star</td>\n",
       "      <td>25</td>\n",
       "      <td>4</td>\n",
       "      <td>60</td>\n",
       "      <td>112</td>\n",
       "      <td>39</td>\n",
       "      <td>0</td>\n",
       "    </tr>\n",
       "    <tr>\n",
       "      <th>889</th>\n",
       "      <td>10083</td>\n",
       "      <td>pikachu-phd</td>\n",
       "      <td>25</td>\n",
       "      <td>4</td>\n",
       "      <td>60</td>\n",
       "      <td>112</td>\n",
       "      <td>40</td>\n",
       "      <td>0</td>\n",
       "    </tr>\n",
       "    <tr>\n",
       "      <th>890</th>\n",
       "      <td>10084</td>\n",
       "      <td>pikachu-libre</td>\n",
       "      <td>25</td>\n",
       "      <td>4</td>\n",
       "      <td>60</td>\n",
       "      <td>112</td>\n",
       "      <td>41</td>\n",
       "      <td>0</td>\n",
       "    </tr>\n",
       "    <tr>\n",
       "      <th>891</th>\n",
       "      <td>10085</td>\n",
       "      <td>pikachu-cosplay</td>\n",
       "      <td>25</td>\n",
       "      <td>4</td>\n",
       "      <td>60</td>\n",
       "      <td>112</td>\n",
       "      <td>36</td>\n",
       "      <td>0</td>\n",
       "    </tr>\n",
       "    <tr>\n",
       "      <th>900</th>\n",
       "      <td>10094</td>\n",
       "      <td>pikachu-original-cap</td>\n",
       "      <td>25</td>\n",
       "      <td>4</td>\n",
       "      <td>60</td>\n",
       "      <td>112</td>\n",
       "      <td>36</td>\n",
       "      <td>0</td>\n",
       "    </tr>\n",
       "    <tr>\n",
       "      <th>901</th>\n",
       "      <td>10095</td>\n",
       "      <td>pikachu-hoenn-cap</td>\n",
       "      <td>25</td>\n",
       "      <td>4</td>\n",
       "      <td>60</td>\n",
       "      <td>112</td>\n",
       "      <td>37</td>\n",
       "      <td>0</td>\n",
       "    </tr>\n",
       "    <tr>\n",
       "      <th>902</th>\n",
       "      <td>10096</td>\n",
       "      <td>pikachu-sinnoh-cap</td>\n",
       "      <td>25</td>\n",
       "      <td>4</td>\n",
       "      <td>60</td>\n",
       "      <td>112</td>\n",
       "      <td>38</td>\n",
       "      <td>0</td>\n",
       "    </tr>\n",
       "    <tr>\n",
       "      <th>903</th>\n",
       "      <td>10097</td>\n",
       "      <td>pikachu-unova-cap</td>\n",
       "      <td>25</td>\n",
       "      <td>4</td>\n",
       "      <td>60</td>\n",
       "      <td>112</td>\n",
       "      <td>39</td>\n",
       "      <td>0</td>\n",
       "    </tr>\n",
       "    <tr>\n",
       "      <th>904</th>\n",
       "      <td>10098</td>\n",
       "      <td>pikachu-kalos-cap</td>\n",
       "      <td>25</td>\n",
       "      <td>4</td>\n",
       "      <td>60</td>\n",
       "      <td>112</td>\n",
       "      <td>40</td>\n",
       "      <td>0</td>\n",
       "    </tr>\n",
       "    <tr>\n",
       "      <th>905</th>\n",
       "      <td>10099</td>\n",
       "      <td>pikachu-alola-cap</td>\n",
       "      <td>25</td>\n",
       "      <td>4</td>\n",
       "      <td>60</td>\n",
       "      <td>112</td>\n",
       "      <td>41</td>\n",
       "      <td>0</td>\n",
       "    </tr>\n",
       "    <tr>\n",
       "      <th>909</th>\n",
       "      <td>10103</td>\n",
       "      <td>vulpix-alola</td>\n",
       "      <td>37</td>\n",
       "      <td>6</td>\n",
       "      <td>99</td>\n",
       "      <td>60</td>\n",
       "      <td>59</td>\n",
       "      <td>0</td>\n",
       "    </tr>\n",
       "    <tr>\n",
       "      <th>910</th>\n",
       "      <td>10104</td>\n",
       "      <td>ninetales-alola</td>\n",
       "      <td>38</td>\n",
       "      <td>11</td>\n",
       "      <td>199</td>\n",
       "      <td>177</td>\n",
       "      <td>61</td>\n",
       "      <td>0</td>\n",
       "    </tr>\n",
       "    <tr>\n",
       "      <th>913</th>\n",
       "      <td>10107</td>\n",
       "      <td>meowth-alola</td>\n",
       "      <td>52</td>\n",
       "      <td>4</td>\n",
       "      <td>42</td>\n",
       "      <td>58</td>\n",
       "      <td>81</td>\n",
       "      <td>0</td>\n",
       "    </tr>\n",
       "    <tr>\n",
       "      <th>922</th>\n",
       "      <td>10116</td>\n",
       "      <td>greninja-battle-bond</td>\n",
       "      <td>658</td>\n",
       "      <td>15</td>\n",
       "      <td>400</td>\n",
       "      <td>239</td>\n",
       "      <td>760</td>\n",
       "      <td>0</td>\n",
       "    </tr>\n",
       "    <tr>\n",
       "      <th>925</th>\n",
       "      <td>10119</td>\n",
       "      <td>zygarde-50</td>\n",
       "      <td>718</td>\n",
       "      <td>50</td>\n",
       "      <td>3050</td>\n",
       "      <td>270</td>\n",
       "      <td>831</td>\n",
       "      <td>0</td>\n",
       "    </tr>\n",
       "    <tr>\n",
       "      <th>929</th>\n",
       "      <td>10123</td>\n",
       "      <td>oricorio-pom-pom</td>\n",
       "      <td>741</td>\n",
       "      <td>6</td>\n",
       "      <td>34</td>\n",
       "      <td>167</td>\n",
       "      <td>860</td>\n",
       "      <td>0</td>\n",
       "    </tr>\n",
       "    <tr>\n",
       "      <th>930</th>\n",
       "      <td>10124</td>\n",
       "      <td>oricorio-pau</td>\n",
       "      <td>741</td>\n",
       "      <td>6</td>\n",
       "      <td>34</td>\n",
       "      <td>167</td>\n",
       "      <td>861</td>\n",
       "      <td>0</td>\n",
       "    </tr>\n",
       "    <tr>\n",
       "      <th>931</th>\n",
       "      <td>10125</td>\n",
       "      <td>oricorio-sensu</td>\n",
       "      <td>741</td>\n",
       "      <td>6</td>\n",
       "      <td>34</td>\n",
       "      <td>167</td>\n",
       "      <td>862</td>\n",
       "      <td>0</td>\n",
       "    </tr>\n",
       "    <tr>\n",
       "      <th>936</th>\n",
       "      <td>10130</td>\n",
       "      <td>minior-orange-meteor</td>\n",
       "      <td>774</td>\n",
       "      <td>3</td>\n",
       "      <td>400</td>\n",
       "      <td>154</td>\n",
       "      <td>904</td>\n",
       "      <td>0</td>\n",
       "    </tr>\n",
       "    <tr>\n",
       "      <th>937</th>\n",
       "      <td>10131</td>\n",
       "      <td>minior-yellow-meteor</td>\n",
       "      <td>774</td>\n",
       "      <td>3</td>\n",
       "      <td>400</td>\n",
       "      <td>154</td>\n",
       "      <td>905</td>\n",
       "      <td>0</td>\n",
       "    </tr>\n",
       "    <tr>\n",
       "      <th>938</th>\n",
       "      <td>10132</td>\n",
       "      <td>minior-green-meteor</td>\n",
       "      <td>774</td>\n",
       "      <td>3</td>\n",
       "      <td>400</td>\n",
       "      <td>154</td>\n",
       "      <td>906</td>\n",
       "      <td>0</td>\n",
       "    </tr>\n",
       "    <tr>\n",
       "      <th>939</th>\n",
       "      <td>10133</td>\n",
       "      <td>minior-blue-meteor</td>\n",
       "      <td>774</td>\n",
       "      <td>3</td>\n",
       "      <td>400</td>\n",
       "      <td>154</td>\n",
       "      <td>907</td>\n",
       "      <td>0</td>\n",
       "    </tr>\n",
       "    <tr>\n",
       "      <th>940</th>\n",
       "      <td>10134</td>\n",
       "      <td>minior-indigo-meteor</td>\n",
       "      <td>774</td>\n",
       "      <td>3</td>\n",
       "      <td>400</td>\n",
       "      <td>154</td>\n",
       "      <td>908</td>\n",
       "      <td>0</td>\n",
       "    </tr>\n",
       "    <tr>\n",
       "      <th>941</th>\n",
       "      <td>10135</td>\n",
       "      <td>minior-violet-meteor</td>\n",
       "      <td>774</td>\n",
       "      <td>3</td>\n",
       "      <td>400</td>\n",
       "      <td>154</td>\n",
       "      <td>909</td>\n",
       "      <td>0</td>\n",
       "    </tr>\n",
       "    <tr>\n",
       "      <th>943</th>\n",
       "      <td>10137</td>\n",
       "      <td>minior-orange</td>\n",
       "      <td>774</td>\n",
       "      <td>3</td>\n",
       "      <td>3</td>\n",
       "      <td>175</td>\n",
       "      <td>911</td>\n",
       "      <td>0</td>\n",
       "    </tr>\n",
       "    <tr>\n",
       "      <th>944</th>\n",
       "      <td>10138</td>\n",
       "      <td>minior-yellow</td>\n",
       "      <td>774</td>\n",
       "      <td>3</td>\n",
       "      <td>3</td>\n",
       "      <td>175</td>\n",
       "      <td>912</td>\n",
       "      <td>0</td>\n",
       "    </tr>\n",
       "    <tr>\n",
       "      <th>945</th>\n",
       "      <td>10139</td>\n",
       "      <td>minior-green</td>\n",
       "      <td>774</td>\n",
       "      <td>3</td>\n",
       "      <td>3</td>\n",
       "      <td>175</td>\n",
       "      <td>913</td>\n",
       "      <td>0</td>\n",
       "    </tr>\n",
       "    <tr>\n",
       "      <th>946</th>\n",
       "      <td>10140</td>\n",
       "      <td>minior-blue</td>\n",
       "      <td>774</td>\n",
       "      <td>3</td>\n",
       "      <td>3</td>\n",
       "      <td>175</td>\n",
       "      <td>914</td>\n",
       "      <td>0</td>\n",
       "    </tr>\n",
       "    <tr>\n",
       "      <th>947</th>\n",
       "      <td>10141</td>\n",
       "      <td>minior-indigo</td>\n",
       "      <td>774</td>\n",
       "      <td>3</td>\n",
       "      <td>3</td>\n",
       "      <td>175</td>\n",
       "      <td>915</td>\n",
       "      <td>0</td>\n",
       "    </tr>\n",
       "    <tr>\n",
       "      <th>948</th>\n",
       "      <td>10142</td>\n",
       "      <td>minior-violet</td>\n",
       "      <td>774</td>\n",
       "      <td>3</td>\n",
       "      <td>3</td>\n",
       "      <td>175</td>\n",
       "      <td>916</td>\n",
       "      <td>0</td>\n",
       "    </tr>\n",
       "    <tr>\n",
       "      <th>949</th>\n",
       "      <td>10143</td>\n",
       "      <td>mimikyu-busted</td>\n",
       "      <td>778</td>\n",
       "      <td>2</td>\n",
       "      <td>7</td>\n",
       "      <td>167</td>\n",
       "      <td>922</td>\n",
       "      <td>0</td>\n",
       "    </tr>\n",
       "    <tr>\n",
       "      <th>951</th>\n",
       "      <td>10145</td>\n",
       "      <td>mimikyu-totem-busted</td>\n",
       "      <td>778</td>\n",
       "      <td>4</td>\n",
       "      <td>28</td>\n",
       "      <td>167</td>\n",
       "      <td>924</td>\n",
       "      <td>0</td>\n",
       "    </tr>\n",
       "    <tr>\n",
       "      <th>953</th>\n",
       "      <td>10147</td>\n",
       "      <td>magearna-original</td>\n",
       "      <td>801</td>\n",
       "      <td>10</td>\n",
       "      <td>805</td>\n",
       "      <td>270</td>\n",
       "      <td>952</td>\n",
       "      <td>0</td>\n",
       "    </tr>\n",
       "    <tr>\n",
       "      <th>954</th>\n",
       "      <td>10148</td>\n",
       "      <td>pikachu-partner-cap</td>\n",
       "      <td>25</td>\n",
       "      <td>4</td>\n",
       "      <td>60</td>\n",
       "      <td>112</td>\n",
       "      <td>42</td>\n",
       "      <td>0</td>\n",
       "    </tr>\n",
       "    <tr>\n",
       "      <th>957</th>\n",
       "      <td>10151</td>\n",
       "      <td>rockruff-own-tempo</td>\n",
       "      <td>744</td>\n",
       "      <td>5</td>\n",
       "      <td>92</td>\n",
       "      <td>56</td>\n",
       "      <td>867</td>\n",
       "      <td>0</td>\n",
       "    </tr>\n",
       "    <tr>\n",
       "      <th>958</th>\n",
       "      <td>10152</td>\n",
       "      <td>lycanroc-dusk</td>\n",
       "      <td>745</td>\n",
       "      <td>8</td>\n",
       "      <td>250</td>\n",
       "      <td>170</td>\n",
       "      <td>870</td>\n",
       "      <td>0</td>\n",
       "    </tr>\n",
       "  </tbody>\n",
       "</table>\n",
       "</div>"
      ],
      "text/plain": [
       "        id             identifier  species_id  height  weight  \\\n",
       "807  10001          deoxys-attack         386      17     608   \n",
       "808  10002         deoxys-defense         386      17     608   \n",
       "809  10003           deoxys-speed         386      17     608   \n",
       "810  10004         wormadam-sandy         413       5      65   \n",
       "811  10005         wormadam-trash         413       5      65   \n",
       "815  10009             rotom-wash         479       3       3   \n",
       "816  10010            rotom-frost         479       3       3   \n",
       "817  10011              rotom-fan         479       3       3   \n",
       "818  10012              rotom-mow         479       3       3   \n",
       "819  10013         castform-sunny         351       3       8   \n",
       "820  10014         castform-rainy         351       3       8   \n",
       "821  10015         castform-snowy         351       3       8   \n",
       "822  10016  basculin-blue-striped         550      10     180   \n",
       "824  10018     meloetta-pirouette         648       6      65   \n",
       "830  10024        keldeo-resolute         647      14     485   \n",
       "831  10025        meowstic-female         678       6      85   \n",
       "832  10026        aegislash-blade         681      17     530   \n",
       "886  10080      pikachu-rock-star          25       4      60   \n",
       "887  10081          pikachu-belle          25       4      60   \n",
       "888  10082       pikachu-pop-star          25       4      60   \n",
       "889  10083            pikachu-phd          25       4      60   \n",
       "890  10084          pikachu-libre          25       4      60   \n",
       "891  10085        pikachu-cosplay          25       4      60   \n",
       "900  10094   pikachu-original-cap          25       4      60   \n",
       "901  10095      pikachu-hoenn-cap          25       4      60   \n",
       "902  10096     pikachu-sinnoh-cap          25       4      60   \n",
       "903  10097      pikachu-unova-cap          25       4      60   \n",
       "904  10098      pikachu-kalos-cap          25       4      60   \n",
       "905  10099      pikachu-alola-cap          25       4      60   \n",
       "909  10103           vulpix-alola          37       6      99   \n",
       "910  10104        ninetales-alola          38      11     199   \n",
       "913  10107           meowth-alola          52       4      42   \n",
       "922  10116   greninja-battle-bond         658      15     400   \n",
       "925  10119             zygarde-50         718      50    3050   \n",
       "929  10123       oricorio-pom-pom         741       6      34   \n",
       "930  10124           oricorio-pau         741       6      34   \n",
       "931  10125         oricorio-sensu         741       6      34   \n",
       "936  10130   minior-orange-meteor         774       3     400   \n",
       "937  10131   minior-yellow-meteor         774       3     400   \n",
       "938  10132    minior-green-meteor         774       3     400   \n",
       "939  10133     minior-blue-meteor         774       3     400   \n",
       "940  10134   minior-indigo-meteor         774       3     400   \n",
       "941  10135   minior-violet-meteor         774       3     400   \n",
       "943  10137          minior-orange         774       3       3   \n",
       "944  10138          minior-yellow         774       3       3   \n",
       "945  10139           minior-green         774       3       3   \n",
       "946  10140            minior-blue         774       3       3   \n",
       "947  10141          minior-indigo         774       3       3   \n",
       "948  10142          minior-violet         774       3       3   \n",
       "949  10143         mimikyu-busted         778       2       7   \n",
       "951  10145   mimikyu-totem-busted         778       4      28   \n",
       "953  10147      magearna-original         801      10     805   \n",
       "954  10148    pikachu-partner-cap          25       4      60   \n",
       "957  10151     rockruff-own-tempo         744       5      92   \n",
       "958  10152          lycanroc-dusk         745       8     250   \n",
       "\n",
       "     base_experience  order  is_default  \n",
       "807              270    491           0  \n",
       "808              270    492           0  \n",
       "809              270    493           0  \n",
       "810              148    519           0  \n",
       "811              148    520           0  \n",
       "815              182    565           0  \n",
       "816              182    566           0  \n",
       "817              182    567           0  \n",
       "818              182    568           0  \n",
       "819              147    441           0  \n",
       "820              147    442           0  \n",
       "821              147    443           0  \n",
       "822              161    643           0  \n",
       "824              270    749           0  \n",
       "830              261    747           0  \n",
       "831              163    783           0  \n",
       "832              234    787           0  \n",
       "886              112     37           0  \n",
       "887              112     38           0  \n",
       "888              112     39           0  \n",
       "889              112     40           0  \n",
       "890              112     41           0  \n",
       "891              112     36           0  \n",
       "900              112     36           0  \n",
       "901              112     37           0  \n",
       "902              112     38           0  \n",
       "903              112     39           0  \n",
       "904              112     40           0  \n",
       "905              112     41           0  \n",
       "909               60     59           0  \n",
       "910              177     61           0  \n",
       "913               58     81           0  \n",
       "922              239    760           0  \n",
       "925              270    831           0  \n",
       "929              167    860           0  \n",
       "930              167    861           0  \n",
       "931              167    862           0  \n",
       "936              154    904           0  \n",
       "937              154    905           0  \n",
       "938              154    906           0  \n",
       "939              154    907           0  \n",
       "940              154    908           0  \n",
       "941              154    909           0  \n",
       "943              175    911           0  \n",
       "944              175    912           0  \n",
       "945              175    913           0  \n",
       "946              175    914           0  \n",
       "947              175    915           0  \n",
       "948              175    916           0  \n",
       "949              167    922           0  \n",
       "951              167    924           0  \n",
       "953              270    952           0  \n",
       "954              112     42           0  \n",
       "957               56    867           0  \n",
       "958              170    870           0  "
      ]
     },
     "execution_count": 62,
     "metadata": {},
     "output_type": "execute_result"
    }
   ],
   "source": [
    "df_duplicated_pokemon"
   ]
  },
  {
   "cell_type": "markdown",
   "metadata": {},
   "source": [
    "let's omit the rows in `df_pokemon` where the `id` appears in `df_duplicated_pokemon`."
   ]
  },
  {
   "cell_type": "code",
   "execution_count": 63,
   "metadata": {},
   "outputs": [
    {
     "data": {
      "text/plain": [
       "964"
      ]
     },
     "execution_count": 63,
     "metadata": {},
     "output_type": "execute_result"
    }
   ],
   "source": [
    "len(df_pokemon)"
   ]
  },
  {
   "cell_type": "code",
   "execution_count": 64,
   "metadata": {},
   "outputs": [],
   "source": [
    "df_pokemon = df_pokemon[~df_pokemon[\"id\"].isin(df_duplicated_pokemon[\"id\"])]"
   ]
  },
  {
   "cell_type": "code",
   "execution_count": 65,
   "metadata": {},
   "outputs": [
    {
     "data": {
      "text/plain": [
       "909"
      ]
     },
     "execution_count": 65,
     "metadata": {},
     "output_type": "execute_result"
    }
   ],
   "source": [
    "len(df_pokemon)"
   ]
  },
  {
   "cell_type": "markdown",
   "metadata": {},
   "source": [
    "Let's drop the duplciated rows"
   ]
  },
  {
   "cell_type": "markdown",
   "metadata": {},
   "source": [
    "# Download Additional Pokemon Data\n",
    "\n",
    "Now that we've gotten a handle on the core Pokemon data lets get some additional data."
   ]
  },
  {
   "cell_type": "code",
   "execution_count": 66,
   "metadata": {},
   "outputs": [],
   "source": [
    "def load_pokemon_data(filename):\n",
    "    url = \"https://github.com/veekun/pokedex/raw/master/pokedex/data/csv/\"\n",
    "    download_file(url + filename, filename)\n",
    "    return pd.read_csv(filename)"
   ]
  },
  {
   "cell_type": "markdown",
   "metadata": {},
   "source": [
    "# Types\n",
    "\n",
    "* **id** - Unique ID for Type\n",
    "* **identifier** - Name of the type\n",
    "* **generation_id** - When was the type introduced\n",
    "* **damage_class_id** - ???"
   ]
  },
  {
   "cell_type": "code",
   "execution_count": 67,
   "metadata": {},
   "outputs": [
    {
     "data": {
      "text/html": [
       "<div>\n",
       "<style scoped>\n",
       "    .dataframe tbody tr th:only-of-type {\n",
       "        vertical-align: middle;\n",
       "    }\n",
       "\n",
       "    .dataframe tbody tr th {\n",
       "        vertical-align: top;\n",
       "    }\n",
       "\n",
       "    .dataframe thead th {\n",
       "        text-align: right;\n",
       "    }\n",
       "</style>\n",
       "<table border=\"1\" class=\"dataframe\">\n",
       "  <thead>\n",
       "    <tr style=\"text-align: right;\">\n",
       "      <th></th>\n",
       "      <th>id</th>\n",
       "      <th>identifier</th>\n",
       "      <th>generation_id</th>\n",
       "      <th>damage_class_id</th>\n",
       "    </tr>\n",
       "  </thead>\n",
       "  <tbody>\n",
       "    <tr>\n",
       "      <th>10</th>\n",
       "      <td>11</td>\n",
       "      <td>water</td>\n",
       "      <td>1</td>\n",
       "      <td>3.0</td>\n",
       "    </tr>\n",
       "    <tr>\n",
       "      <th>19</th>\n",
       "      <td>10002</td>\n",
       "      <td>shadow</td>\n",
       "      <td>3</td>\n",
       "      <td>NaN</td>\n",
       "    </tr>\n",
       "    <tr>\n",
       "      <th>4</th>\n",
       "      <td>5</td>\n",
       "      <td>ground</td>\n",
       "      <td>1</td>\n",
       "      <td>2.0</td>\n",
       "    </tr>\n",
       "    <tr>\n",
       "      <th>8</th>\n",
       "      <td>9</td>\n",
       "      <td>steel</td>\n",
       "      <td>2</td>\n",
       "      <td>2.0</td>\n",
       "    </tr>\n",
       "    <tr>\n",
       "      <th>12</th>\n",
       "      <td>13</td>\n",
       "      <td>electric</td>\n",
       "      <td>1</td>\n",
       "      <td>3.0</td>\n",
       "    </tr>\n",
       "  </tbody>\n",
       "</table>\n",
       "</div>"
      ],
      "text/plain": [
       "       id identifier  generation_id  damage_class_id\n",
       "10     11      water              1              3.0\n",
       "19  10002     shadow              3              NaN\n",
       "4       5     ground              1              2.0\n",
       "8       9      steel              2              2.0\n",
       "12     13   electric              1              3.0"
      ]
     },
     "execution_count": 67,
     "metadata": {},
     "output_type": "execute_result"
    }
   ],
   "source": [
    "df_types = load_pokemon_data(\"types.csv\")\n",
    "df_types.sample(5)"
   ]
  },
  {
   "cell_type": "code",
   "execution_count": 68,
   "metadata": {},
   "outputs": [
    {
     "data": {
      "text/plain": [
       "True"
      ]
     },
     "execution_count": 68,
     "metadata": {},
     "output_type": "execute_result"
    }
   ],
   "source": [
    "df_types[\"id\"].is_unique"
   ]
  },
  {
   "cell_type": "markdown",
   "metadata": {},
   "source": [
    "# Pokemon Types\n",
    "\n",
    "Linking Pokemon to Types"
   ]
  },
  {
   "cell_type": "code",
   "execution_count": 69,
   "metadata": {},
   "outputs": [
    {
     "data": {
      "text/html": [
       "<div>\n",
       "<style scoped>\n",
       "    .dataframe tbody tr th:only-of-type {\n",
       "        vertical-align: middle;\n",
       "    }\n",
       "\n",
       "    .dataframe tbody tr th {\n",
       "        vertical-align: top;\n",
       "    }\n",
       "\n",
       "    .dataframe thead th {\n",
       "        text-align: right;\n",
       "    }\n",
       "</style>\n",
       "<table border=\"1\" class=\"dataframe\">\n",
       "  <thead>\n",
       "    <tr style=\"text-align: right;\">\n",
       "      <th></th>\n",
       "      <th>pokemon_id</th>\n",
       "      <th>type_id</th>\n",
       "      <th>slot</th>\n",
       "    </tr>\n",
       "  </thead>\n",
       "  <tbody>\n",
       "    <tr>\n",
       "      <th>321</th>\n",
       "      <td>221</td>\n",
       "      <td>15</td>\n",
       "      <td>1</td>\n",
       "    </tr>\n",
       "    <tr>\n",
       "      <th>286</th>\n",
       "      <td>198</td>\n",
       "      <td>3</td>\n",
       "      <td>2</td>\n",
       "    </tr>\n",
       "    <tr>\n",
       "      <th>656</th>\n",
       "      <td>445</td>\n",
       "      <td>5</td>\n",
       "      <td>2</td>\n",
       "    </tr>\n",
       "    <tr>\n",
       "      <th>915</th>\n",
       "      <td>627</td>\n",
       "      <td>3</td>\n",
       "      <td>2</td>\n",
       "    </tr>\n",
       "    <tr>\n",
       "      <th>662</th>\n",
       "      <td>450</td>\n",
       "      <td>5</td>\n",
       "      <td>1</td>\n",
       "    </tr>\n",
       "  </tbody>\n",
       "</table>\n",
       "</div>"
      ],
      "text/plain": [
       "     pokemon_id  type_id  slot\n",
       "321         221       15     1\n",
       "286         198        3     2\n",
       "656         445        5     2\n",
       "915         627        3     2\n",
       "662         450        5     1"
      ]
     },
     "execution_count": 69,
     "metadata": {},
     "output_type": "execute_result"
    }
   ],
   "source": [
    "df_pokemon_types = load_pokemon_data(\"pokemon_types.csv\")\n",
    "df_pokemon_types.sample(5)"
   ]
  },
  {
   "cell_type": "markdown",
   "metadata": {},
   "source": [
    "### Duplicated Pokemon Types\n",
    "\n",
    "Can a Pokemon have more than 1 type?"
   ]
  },
  {
   "cell_type": "code",
   "execution_count": 70,
   "metadata": {},
   "outputs": [
    {
     "name": "stdout",
     "output_type": "stream",
     "text": [
      "number of duplicated rows: 0\n"
     ]
    }
   ],
   "source": [
    "duplicate_index = get_duplicate_indexes(df_pokemon_types, [\"pokemon_id\", \"type_id\"])\n",
    "print(\"number of duplicated rows:\", len(df_pokemon_types[duplicate_index]))"
   ]
  },
  {
   "cell_type": "markdown",
   "metadata": {},
   "source": [
    "# Joining DataFrames\n",
    "\n",
    "Let's join the seperated datasources, in a fashion not to dissimilar to a SQL style join.\n",
    "\n",
    "<img src=\"static/merging_merge_on_key.png\">\n",
    "Credit: Pandas Project - https://pandas.pydata.org/pandas-docs/stable/merging.html#brief-primer-on-merge-methods-relational-algebra"
   ]
  },
  {
   "cell_type": "code",
   "execution_count": 71,
   "metadata": {},
   "outputs": [
    {
     "data": {
      "text/html": [
       "<div>\n",
       "<style scoped>\n",
       "    .dataframe tbody tr th:only-of-type {\n",
       "        vertical-align: middle;\n",
       "    }\n",
       "\n",
       "    .dataframe tbody tr th {\n",
       "        vertical-align: top;\n",
       "    }\n",
       "\n",
       "    .dataframe thead th {\n",
       "        text-align: right;\n",
       "    }\n",
       "</style>\n",
       "<table border=\"1\" class=\"dataframe\">\n",
       "  <thead>\n",
       "    <tr style=\"text-align: right;\">\n",
       "      <th></th>\n",
       "      <th>id</th>\n",
       "      <th>identifier</th>\n",
       "      <th>species_id</th>\n",
       "      <th>height</th>\n",
       "      <th>weight</th>\n",
       "      <th>base_experience</th>\n",
       "      <th>order</th>\n",
       "      <th>is_default</th>\n",
       "      <th>pokemon_id</th>\n",
       "      <th>type_id</th>\n",
       "      <th>slot</th>\n",
       "    </tr>\n",
       "  </thead>\n",
       "  <tbody>\n",
       "    <tr>\n",
       "      <th>0</th>\n",
       "      <td>1</td>\n",
       "      <td>bulbasaur</td>\n",
       "      <td>1</td>\n",
       "      <td>7</td>\n",
       "      <td>69</td>\n",
       "      <td>64</td>\n",
       "      <td>1</td>\n",
       "      <td>1</td>\n",
       "      <td>1</td>\n",
       "      <td>12</td>\n",
       "      <td>1</td>\n",
       "    </tr>\n",
       "    <tr>\n",
       "      <th>1</th>\n",
       "      <td>1</td>\n",
       "      <td>bulbasaur</td>\n",
       "      <td>1</td>\n",
       "      <td>7</td>\n",
       "      <td>69</td>\n",
       "      <td>64</td>\n",
       "      <td>1</td>\n",
       "      <td>1</td>\n",
       "      <td>1</td>\n",
       "      <td>4</td>\n",
       "      <td>2</td>\n",
       "    </tr>\n",
       "    <tr>\n",
       "      <th>2</th>\n",
       "      <td>2</td>\n",
       "      <td>ivysaur</td>\n",
       "      <td>2</td>\n",
       "      <td>10</td>\n",
       "      <td>130</td>\n",
       "      <td>142</td>\n",
       "      <td>2</td>\n",
       "      <td>1</td>\n",
       "      <td>2</td>\n",
       "      <td>12</td>\n",
       "      <td>1</td>\n",
       "    </tr>\n",
       "    <tr>\n",
       "      <th>3</th>\n",
       "      <td>2</td>\n",
       "      <td>ivysaur</td>\n",
       "      <td>2</td>\n",
       "      <td>10</td>\n",
       "      <td>130</td>\n",
       "      <td>142</td>\n",
       "      <td>2</td>\n",
       "      <td>1</td>\n",
       "      <td>2</td>\n",
       "      <td>4</td>\n",
       "      <td>2</td>\n",
       "    </tr>\n",
       "    <tr>\n",
       "      <th>4</th>\n",
       "      <td>3</td>\n",
       "      <td>venusaur</td>\n",
       "      <td>3</td>\n",
       "      <td>20</td>\n",
       "      <td>1000</td>\n",
       "      <td>236</td>\n",
       "      <td>3</td>\n",
       "      <td>1</td>\n",
       "      <td>3</td>\n",
       "      <td>12</td>\n",
       "      <td>1</td>\n",
       "    </tr>\n",
       "  </tbody>\n",
       "</table>\n",
       "</div>"
      ],
      "text/plain": [
       "   id identifier  species_id  height  weight  base_experience  order  \\\n",
       "0   1  bulbasaur           1       7      69               64      1   \n",
       "1   1  bulbasaur           1       7      69               64      1   \n",
       "2   2    ivysaur           2      10     130              142      2   \n",
       "3   2    ivysaur           2      10     130              142      2   \n",
       "4   3   venusaur           3      20    1000              236      3   \n",
       "\n",
       "   is_default  pokemon_id  type_id  slot  \n",
       "0           1           1       12     1  \n",
       "1           1           1        4     2  \n",
       "2           1           2       12     1  \n",
       "3           1           2        4     2  \n",
       "4           1           3       12     1  "
      ]
     },
     "execution_count": 71,
     "metadata": {},
     "output_type": "execute_result"
    }
   ],
   "source": [
    "df_pokemon = df_pokemon.merge(df_pokemon_types, left_on=\"id\", right_on=\"pokemon_id\", how=\"inner\")\n",
    "df_pokemon.head()"
   ]
  },
  {
   "cell_type": "markdown",
   "metadata": {},
   "source": [
    "But now we've got some extranious columns, lets get rid of them."
   ]
  },
  {
   "cell_type": "code",
   "execution_count": 72,
   "metadata": {},
   "outputs": [],
   "source": [
    "df_pokemon = df_pokemon.drop([\"pokemon_id\"], axis = 1)"
   ]
  },
  {
   "cell_type": "markdown",
   "metadata": {},
   "source": [
    "Speaking of columns, we have columns with the same names in our `df_pokemon` and `df_types` dataframes.\n",
    "\n",
    "Thankfully we can specify a suffix when merging dataframes."
   ]
  },
  {
   "cell_type": "code",
   "execution_count": 73,
   "metadata": {},
   "outputs": [
    {
     "data": {
      "text/plain": [
       "Index(['id', 'identifier', 'generation_id', 'damage_class_id'], dtype='object')"
      ]
     },
     "execution_count": 73,
     "metadata": {},
     "output_type": "execute_result"
    }
   ],
   "source": [
    "df_types.columns"
   ]
  },
  {
   "cell_type": "code",
   "execution_count": 74,
   "metadata": {},
   "outputs": [
    {
     "data": {
      "text/plain": [
       "Index(['id', 'identifier', 'species_id', 'height', 'weight', 'base_experience',\n",
       "       'order', 'is_default', 'type_id', 'slot'],\n",
       "      dtype='object')"
      ]
     },
     "execution_count": 74,
     "metadata": {},
     "output_type": "execute_result"
    }
   ],
   "source": [
    "df_pokemon.columns"
   ]
  },
  {
   "cell_type": "code",
   "execution_count": 75,
   "metadata": {},
   "outputs": [
    {
     "data": {
      "text/html": [
       "<div>\n",
       "<style scoped>\n",
       "    .dataframe tbody tr th:only-of-type {\n",
       "        vertical-align: middle;\n",
       "    }\n",
       "\n",
       "    .dataframe tbody tr th {\n",
       "        vertical-align: top;\n",
       "    }\n",
       "\n",
       "    .dataframe thead th {\n",
       "        text-align: right;\n",
       "    }\n",
       "</style>\n",
       "<table border=\"1\" class=\"dataframe\">\n",
       "  <thead>\n",
       "    <tr style=\"text-align: right;\">\n",
       "      <th></th>\n",
       "      <th>id</th>\n",
       "      <th>identifier</th>\n",
       "      <th>species_id</th>\n",
       "      <th>height</th>\n",
       "      <th>weight</th>\n",
       "      <th>base_experience</th>\n",
       "      <th>order</th>\n",
       "      <th>is_default</th>\n",
       "      <th>type_id</th>\n",
       "      <th>slot</th>\n",
       "      <th>id_type</th>\n",
       "      <th>identifier_type</th>\n",
       "      <th>generation_id</th>\n",
       "      <th>damage_class_id</th>\n",
       "    </tr>\n",
       "  </thead>\n",
       "  <tbody>\n",
       "    <tr>\n",
       "      <th>0</th>\n",
       "      <td>1</td>\n",
       "      <td>bulbasaur</td>\n",
       "      <td>1</td>\n",
       "      <td>7</td>\n",
       "      <td>69</td>\n",
       "      <td>64</td>\n",
       "      <td>1</td>\n",
       "      <td>1</td>\n",
       "      <td>12</td>\n",
       "      <td>1</td>\n",
       "      <td>12</td>\n",
       "      <td>grass</td>\n",
       "      <td>1</td>\n",
       "      <td>3.0</td>\n",
       "    </tr>\n",
       "    <tr>\n",
       "      <th>1</th>\n",
       "      <td>2</td>\n",
       "      <td>ivysaur</td>\n",
       "      <td>2</td>\n",
       "      <td>10</td>\n",
       "      <td>130</td>\n",
       "      <td>142</td>\n",
       "      <td>2</td>\n",
       "      <td>1</td>\n",
       "      <td>12</td>\n",
       "      <td>1</td>\n",
       "      <td>12</td>\n",
       "      <td>grass</td>\n",
       "      <td>1</td>\n",
       "      <td>3.0</td>\n",
       "    </tr>\n",
       "    <tr>\n",
       "      <th>2</th>\n",
       "      <td>3</td>\n",
       "      <td>venusaur</td>\n",
       "      <td>3</td>\n",
       "      <td>20</td>\n",
       "      <td>1000</td>\n",
       "      <td>236</td>\n",
       "      <td>3</td>\n",
       "      <td>1</td>\n",
       "      <td>12</td>\n",
       "      <td>1</td>\n",
       "      <td>12</td>\n",
       "      <td>grass</td>\n",
       "      <td>1</td>\n",
       "      <td>3.0</td>\n",
       "    </tr>\n",
       "    <tr>\n",
       "      <th>3</th>\n",
       "      <td>43</td>\n",
       "      <td>oddish</td>\n",
       "      <td>43</td>\n",
       "      <td>5</td>\n",
       "      <td>54</td>\n",
       "      <td>64</td>\n",
       "      <td>68</td>\n",
       "      <td>1</td>\n",
       "      <td>12</td>\n",
       "      <td>1</td>\n",
       "      <td>12</td>\n",
       "      <td>grass</td>\n",
       "      <td>1</td>\n",
       "      <td>3.0</td>\n",
       "    </tr>\n",
       "    <tr>\n",
       "      <th>4</th>\n",
       "      <td>44</td>\n",
       "      <td>gloom</td>\n",
       "      <td>44</td>\n",
       "      <td>8</td>\n",
       "      <td>86</td>\n",
       "      <td>138</td>\n",
       "      <td>69</td>\n",
       "      <td>1</td>\n",
       "      <td>12</td>\n",
       "      <td>1</td>\n",
       "      <td>12</td>\n",
       "      <td>grass</td>\n",
       "      <td>1</td>\n",
       "      <td>3.0</td>\n",
       "    </tr>\n",
       "  </tbody>\n",
       "</table>\n",
       "</div>"
      ],
      "text/plain": [
       "   id identifier  species_id  height  weight  base_experience  order  \\\n",
       "0   1  bulbasaur           1       7      69               64      1   \n",
       "1   2    ivysaur           2      10     130              142      2   \n",
       "2   3   venusaur           3      20    1000              236      3   \n",
       "3  43     oddish          43       5      54               64     68   \n",
       "4  44      gloom          44       8      86              138     69   \n",
       "\n",
       "   is_default  type_id  slot  id_type identifier_type  generation_id  \\\n",
       "0           1       12     1       12           grass              1   \n",
       "1           1       12     1       12           grass              1   \n",
       "2           1       12     1       12           grass              1   \n",
       "3           1       12     1       12           grass              1   \n",
       "4           1       12     1       12           grass              1   \n",
       "\n",
       "   damage_class_id  \n",
       "0              3.0  \n",
       "1              3.0  \n",
       "2              3.0  \n",
       "3              3.0  \n",
       "4              3.0  "
      ]
     },
     "execution_count": 75,
     "metadata": {},
     "output_type": "execute_result"
    }
   ],
   "source": [
    "df_pokemon = df_pokemon.merge(df_types, \n",
    "                              left_on=\"type_id\", \n",
    "                              right_on=\"id\", \n",
    "                              how=\"inner\", \n",
    "                              suffixes=(\"\", \"_type\"))\n",
    "df_pokemon.head()"
   ]
  },
  {
   "cell_type": "code",
   "execution_count": 76,
   "metadata": {},
   "outputs": [
    {
     "data": {
      "text/html": [
       "<div>\n",
       "<style scoped>\n",
       "    .dataframe tbody tr th:only-of-type {\n",
       "        vertical-align: middle;\n",
       "    }\n",
       "\n",
       "    .dataframe tbody tr th {\n",
       "        vertical-align: top;\n",
       "    }\n",
       "\n",
       "    .dataframe thead th {\n",
       "        text-align: right;\n",
       "    }\n",
       "</style>\n",
       "<table border=\"1\" class=\"dataframe\">\n",
       "  <thead>\n",
       "    <tr style=\"text-align: right;\">\n",
       "      <th></th>\n",
       "      <th>id</th>\n",
       "      <th>identifier</th>\n",
       "      <th>species_id</th>\n",
       "      <th>height</th>\n",
       "      <th>weight</th>\n",
       "      <th>base_experience</th>\n",
       "      <th>order</th>\n",
       "      <th>is_default</th>\n",
       "      <th>slot</th>\n",
       "      <th>identifier_type</th>\n",
       "      <th>generation_id</th>\n",
       "      <th>damage_class_id</th>\n",
       "    </tr>\n",
       "  </thead>\n",
       "  <tbody>\n",
       "    <tr>\n",
       "      <th>0</th>\n",
       "      <td>1</td>\n",
       "      <td>bulbasaur</td>\n",
       "      <td>1</td>\n",
       "      <td>7</td>\n",
       "      <td>69</td>\n",
       "      <td>64</td>\n",
       "      <td>1</td>\n",
       "      <td>1</td>\n",
       "      <td>1</td>\n",
       "      <td>grass</td>\n",
       "      <td>1</td>\n",
       "      <td>3.0</td>\n",
       "    </tr>\n",
       "    <tr>\n",
       "      <th>1</th>\n",
       "      <td>2</td>\n",
       "      <td>ivysaur</td>\n",
       "      <td>2</td>\n",
       "      <td>10</td>\n",
       "      <td>130</td>\n",
       "      <td>142</td>\n",
       "      <td>2</td>\n",
       "      <td>1</td>\n",
       "      <td>1</td>\n",
       "      <td>grass</td>\n",
       "      <td>1</td>\n",
       "      <td>3.0</td>\n",
       "    </tr>\n",
       "    <tr>\n",
       "      <th>2</th>\n",
       "      <td>3</td>\n",
       "      <td>venusaur</td>\n",
       "      <td>3</td>\n",
       "      <td>20</td>\n",
       "      <td>1000</td>\n",
       "      <td>236</td>\n",
       "      <td>3</td>\n",
       "      <td>1</td>\n",
       "      <td>1</td>\n",
       "      <td>grass</td>\n",
       "      <td>1</td>\n",
       "      <td>3.0</td>\n",
       "    </tr>\n",
       "    <tr>\n",
       "      <th>3</th>\n",
       "      <td>43</td>\n",
       "      <td>oddish</td>\n",
       "      <td>43</td>\n",
       "      <td>5</td>\n",
       "      <td>54</td>\n",
       "      <td>64</td>\n",
       "      <td>68</td>\n",
       "      <td>1</td>\n",
       "      <td>1</td>\n",
       "      <td>grass</td>\n",
       "      <td>1</td>\n",
       "      <td>3.0</td>\n",
       "    </tr>\n",
       "    <tr>\n",
       "      <th>4</th>\n",
       "      <td>44</td>\n",
       "      <td>gloom</td>\n",
       "      <td>44</td>\n",
       "      <td>8</td>\n",
       "      <td>86</td>\n",
       "      <td>138</td>\n",
       "      <td>69</td>\n",
       "      <td>1</td>\n",
       "      <td>1</td>\n",
       "      <td>grass</td>\n",
       "      <td>1</td>\n",
       "      <td>3.0</td>\n",
       "    </tr>\n",
       "  </tbody>\n",
       "</table>\n",
       "</div>"
      ],
      "text/plain": [
       "   id identifier  species_id  height  weight  base_experience  order  \\\n",
       "0   1  bulbasaur           1       7      69               64      1   \n",
       "1   2    ivysaur           2      10     130              142      2   \n",
       "2   3   venusaur           3      20    1000              236      3   \n",
       "3  43     oddish          43       5      54               64     68   \n",
       "4  44      gloom          44       8      86              138     69   \n",
       "\n",
       "   is_default  slot identifier_type  generation_id  damage_class_id  \n",
       "0           1     1           grass              1              3.0  \n",
       "1           1     1           grass              1              3.0  \n",
       "2           1     1           grass              1              3.0  \n",
       "3           1     1           grass              1              3.0  \n",
       "4           1     1           grass              1              3.0  "
      ]
     },
     "execution_count": 76,
     "metadata": {},
     "output_type": "execute_result"
    }
   ],
   "source": [
    "df_pokemon = df_pokemon.drop([\"type_id\", \"id_type\"], axis = 1)\n",
    "df_pokemon.head()"
   ]
  },
  {
   "cell_type": "markdown",
   "metadata": {},
   "source": [
    "# Grouping and Plotting"
   ]
  },
  {
   "cell_type": "markdown",
   "metadata": {},
   "source": [
    "Let's get an idea of the distribution of the Pokemon types."
   ]
  },
  {
   "cell_type": "code",
   "execution_count": 77,
   "metadata": {},
   "outputs": [
    {
     "data": {
      "text/html": [
       "<div>\n",
       "<style scoped>\n",
       "    .dataframe tbody tr th:only-of-type {\n",
       "        vertical-align: middle;\n",
       "    }\n",
       "\n",
       "    .dataframe tbody tr th {\n",
       "        vertical-align: top;\n",
       "    }\n",
       "\n",
       "    .dataframe thead th {\n",
       "        text-align: right;\n",
       "    }\n",
       "</style>\n",
       "<table border=\"1\" class=\"dataframe\">\n",
       "  <thead>\n",
       "    <tr style=\"text-align: right;\">\n",
       "      <th></th>\n",
       "      <th>0</th>\n",
       "    </tr>\n",
       "    <tr>\n",
       "      <th>identifier_type</th>\n",
       "      <th></th>\n",
       "    </tr>\n",
       "  </thead>\n",
       "  <tbody>\n",
       "    <tr>\n",
       "      <th>bug</th>\n",
       "      <td>84</td>\n",
       "    </tr>\n",
       "    <tr>\n",
       "      <th>dark</th>\n",
       "      <td>60</td>\n",
       "    </tr>\n",
       "    <tr>\n",
       "      <th>dragon</th>\n",
       "      <td>62</td>\n",
       "    </tr>\n",
       "    <tr>\n",
       "      <th>electric</th>\n",
       "      <td>58</td>\n",
       "    </tr>\n",
       "    <tr>\n",
       "      <th>fairy</th>\n",
       "      <td>55</td>\n",
       "    </tr>\n",
       "    <tr>\n",
       "      <th>fighting</th>\n",
       "      <td>62</td>\n",
       "    </tr>\n",
       "    <tr>\n",
       "      <th>fire</th>\n",
       "      <td>75</td>\n",
       "    </tr>\n",
       "    <tr>\n",
       "      <th>flying</th>\n",
       "      <td>109</td>\n",
       "    </tr>\n",
       "    <tr>\n",
       "      <th>ghost</th>\n",
       "      <td>57</td>\n",
       "    </tr>\n",
       "    <tr>\n",
       "      <th>grass</th>\n",
       "      <td>109</td>\n",
       "    </tr>\n",
       "    <tr>\n",
       "      <th>ground</th>\n",
       "      <td>74</td>\n",
       "    </tr>\n",
       "    <tr>\n",
       "      <th>ice</th>\n",
       "      <td>40</td>\n",
       "    </tr>\n",
       "    <tr>\n",
       "      <th>normal</th>\n",
       "      <td>117</td>\n",
       "    </tr>\n",
       "    <tr>\n",
       "      <th>poison</th>\n",
       "      <td>72</td>\n",
       "    </tr>\n",
       "    <tr>\n",
       "      <th>psychic</th>\n",
       "      <td>98</td>\n",
       "    </tr>\n",
       "    <tr>\n",
       "      <th>rock</th>\n",
       "      <td>68</td>\n",
       "    </tr>\n",
       "    <tr>\n",
       "      <th>steel</th>\n",
       "      <td>59</td>\n",
       "    </tr>\n",
       "    <tr>\n",
       "      <th>water</th>\n",
       "      <td>140</td>\n",
       "    </tr>\n",
       "  </tbody>\n",
       "</table>\n",
       "</div>"
      ],
      "text/plain": [
       "                   0\n",
       "identifier_type     \n",
       "bug               84\n",
       "dark              60\n",
       "dragon            62\n",
       "electric          58\n",
       "fairy             55\n",
       "fighting          62\n",
       "fire              75\n",
       "flying           109\n",
       "ghost             57\n",
       "grass            109\n",
       "ground            74\n",
       "ice               40\n",
       "normal           117\n",
       "poison            72\n",
       "psychic           98\n",
       "rock              68\n",
       "steel             59\n",
       "water            140"
      ]
     },
     "execution_count": 77,
     "metadata": {},
     "output_type": "execute_result"
    }
   ],
   "source": [
    "df_pokemon_type_group = df_pokemon[[\"identifier_type\", \"identifier\"]].groupby(by=\"identifier_type\").size()\n",
    "df_pokemon_type_group = pd.DataFrame(df_pokemon_type_group)\n",
    "df_pokemon_type_group"
   ]
  },
  {
   "cell_type": "markdown",
   "metadata": {},
   "source": [
    "So nice to have in our plot:\n",
    "* Sort the data display so that comparisons are easier, and we have an immediate sense of ranking.\n",
    "* Make the barplot horizontal so we don't have to tilt our heads sideways.\n",
    "* Give each bar it's own colour."
   ]
  },
  {
   "cell_type": "code",
   "execution_count": 78,
   "metadata": {},
   "outputs": [],
   "source": [
    "df_pokemon_type_group = df_pokemon_type_group.reset_index()\n",
    "df_pokemon_type_group.columns = [\"type\", \"count\"]\n",
    "df_pokemon_type_group = df_pokemon_type_group.sort_values(by = \"count\", ascending = False)"
   ]
  },
  {
   "cell_type": "code",
   "execution_count": 79,
   "metadata": {},
   "outputs": [
    {
     "data": {
      "text/plain": [
       "<matplotlib.axes._subplots.AxesSubplot at 0x2109e252cc0>"
      ]
     },
     "execution_count": 79,
     "metadata": {},
     "output_type": "execute_result"
    },
    {
     "data": {
      "image/png": "[encoded data removed]",
      "text/plain": [
       "<Figure size 842.4x595.44 with 1 Axes>"
      ]
     },
     "metadata": {},
     "output_type": "display_data"
    }
   ],
   "source": [
    "sns.set_style('ticks')\n",
    "\n",
    "fig, ax = plt.subplots()\n",
    "fig.set_size_inches(11.7, 8.27)\n",
    "\n",
    "locs, labels = plt.xticks()\n",
    "plt.setp(labels, rotation = 0)\n",
    "\n",
    "sns.barplot(y=\"type\", x=\"count\", data = df_pokemon_type_group)"
   ]
  },
  {
   "cell_type": "markdown",
   "metadata": {},
   "source": [
    "# Correlations"
   ]
  },
  {
   "cell_type": "markdown",
   "metadata": {},
   "source": [
    "A Pokemon has abilities, abilities may be shared amongst pokemon."
   ]
  },
  {
   "cell_type": "markdown",
   "metadata": {},
   "source": [
    "## Abilities"
   ]
  },
  {
   "cell_type": "code",
   "execution_count": 80,
   "metadata": {},
   "outputs": [],
   "source": [
    "df_abilities = load_pokemon_data(\"abilities.csv\")"
   ]
  },
  {
   "cell_type": "code",
   "execution_count": 81,
   "metadata": {},
   "outputs": [
    {
     "data": {
      "text/plain": [
       "293"
      ]
     },
     "execution_count": 81,
     "metadata": {},
     "output_type": "execute_result"
    }
   ],
   "source": [
    "len(df_abilities)"
   ]
  },
  {
   "cell_type": "code",
   "execution_count": 82,
   "metadata": {},
   "outputs": [
    {
     "data": {
      "text/html": [
       "<div>\n",
       "<style scoped>\n",
       "    .dataframe tbody tr th:only-of-type {\n",
       "        vertical-align: middle;\n",
       "    }\n",
       "\n",
       "    .dataframe tbody tr th {\n",
       "        vertical-align: top;\n",
       "    }\n",
       "\n",
       "    .dataframe thead th {\n",
       "        text-align: right;\n",
       "    }\n",
       "</style>\n",
       "<table border=\"1\" class=\"dataframe\">\n",
       "  <thead>\n",
       "    <tr style=\"text-align: right;\">\n",
       "      <th></th>\n",
       "      <th>id</th>\n",
       "      <th>identifier</th>\n",
       "      <th>generation_id</th>\n",
       "      <th>is_main_series</th>\n",
       "    </tr>\n",
       "  </thead>\n",
       "  <tbody>\n",
       "    <tr>\n",
       "      <th>0</th>\n",
       "      <td>1</td>\n",
       "      <td>stench</td>\n",
       "      <td>3</td>\n",
       "      <td>1</td>\n",
       "    </tr>\n",
       "    <tr>\n",
       "      <th>1</th>\n",
       "      <td>2</td>\n",
       "      <td>drizzle</td>\n",
       "      <td>3</td>\n",
       "      <td>1</td>\n",
       "    </tr>\n",
       "    <tr>\n",
       "      <th>2</th>\n",
       "      <td>3</td>\n",
       "      <td>speed-boost</td>\n",
       "      <td>3</td>\n",
       "      <td>1</td>\n",
       "    </tr>\n",
       "    <tr>\n",
       "      <th>3</th>\n",
       "      <td>4</td>\n",
       "      <td>battle-armor</td>\n",
       "      <td>3</td>\n",
       "      <td>1</td>\n",
       "    </tr>\n",
       "    <tr>\n",
       "      <th>4</th>\n",
       "      <td>5</td>\n",
       "      <td>sturdy</td>\n",
       "      <td>3</td>\n",
       "      <td>1</td>\n",
       "    </tr>\n",
       "  </tbody>\n",
       "</table>\n",
       "</div>"
      ],
      "text/plain": [
       "   id    identifier  generation_id  is_main_series\n",
       "0   1        stench              3               1\n",
       "1   2       drizzle              3               1\n",
       "2   3   speed-boost              3               1\n",
       "3   4  battle-armor              3               1\n",
       "4   5        sturdy              3               1"
      ]
     },
     "execution_count": 82,
     "metadata": {},
     "output_type": "execute_result"
    }
   ],
   "source": [
    "df_abilities.head()"
   ]
  },
  {
   "cell_type": "markdown",
   "metadata": {},
   "source": [
    "## Pokemon to Abilities Mapping"
   ]
  },
  {
   "cell_type": "code",
   "execution_count": 83,
   "metadata": {},
   "outputs": [],
   "source": [
    "df_pokemon_abilities = load_pokemon_data(\"pokemon_abilities.csv\")"
   ]
  },
  {
   "cell_type": "code",
   "execution_count": 84,
   "metadata": {},
   "outputs": [
    {
     "data": {
      "text/plain": [
       "2167"
      ]
     },
     "execution_count": 84,
     "metadata": {},
     "output_type": "execute_result"
    }
   ],
   "source": [
    "len(df_pokemon_abilities)"
   ]
  },
  {
   "cell_type": "code",
   "execution_count": 85,
   "metadata": {},
   "outputs": [
    {
     "data": {
      "text/plain": [
       "2167"
      ]
     },
     "execution_count": 85,
     "metadata": {},
     "output_type": "execute_result"
    }
   ],
   "source": [
    "len(df_pokemon_abilities)"
   ]
  },
  {
   "cell_type": "code",
   "execution_count": 86,
   "metadata": {},
   "outputs": [
    {
     "data": {
      "text/html": [
       "<div>\n",
       "<style scoped>\n",
       "    .dataframe tbody tr th:only-of-type {\n",
       "        vertical-align: middle;\n",
       "    }\n",
       "\n",
       "    .dataframe tbody tr th {\n",
       "        vertical-align: top;\n",
       "    }\n",
       "\n",
       "    .dataframe thead th {\n",
       "        text-align: right;\n",
       "    }\n",
       "</style>\n",
       "<table border=\"1\" class=\"dataframe\">\n",
       "  <thead>\n",
       "    <tr style=\"text-align: right;\">\n",
       "      <th></th>\n",
       "      <th>pokemon_id</th>\n",
       "      <th>ability_id</th>\n",
       "      <th>is_hidden</th>\n",
       "      <th>slot</th>\n",
       "    </tr>\n",
       "  </thead>\n",
       "  <tbody>\n",
       "    <tr>\n",
       "      <th>0</th>\n",
       "      <td>1</td>\n",
       "      <td>65</td>\n",
       "      <td>0</td>\n",
       "      <td>1</td>\n",
       "    </tr>\n",
       "    <tr>\n",
       "      <th>1</th>\n",
       "      <td>1</td>\n",
       "      <td>34</td>\n",
       "      <td>1</td>\n",
       "      <td>3</td>\n",
       "    </tr>\n",
       "    <tr>\n",
       "      <th>2</th>\n",
       "      <td>2</td>\n",
       "      <td>65</td>\n",
       "      <td>0</td>\n",
       "      <td>1</td>\n",
       "    </tr>\n",
       "    <tr>\n",
       "      <th>3</th>\n",
       "      <td>2</td>\n",
       "      <td>34</td>\n",
       "      <td>1</td>\n",
       "      <td>3</td>\n",
       "    </tr>\n",
       "    <tr>\n",
       "      <th>4</th>\n",
       "      <td>3</td>\n",
       "      <td>65</td>\n",
       "      <td>0</td>\n",
       "      <td>1</td>\n",
       "    </tr>\n",
       "  </tbody>\n",
       "</table>\n",
       "</div>"
      ],
      "text/plain": [
       "   pokemon_id  ability_id  is_hidden  slot\n",
       "0           1          65          0     1\n",
       "1           1          34          1     3\n",
       "2           2          65          0     1\n",
       "3           2          34          1     3\n",
       "4           3          65          0     1"
      ]
     },
     "execution_count": 86,
     "metadata": {},
     "output_type": "execute_result"
    }
   ],
   "source": [
    "df_pokemon_abilities.head()"
   ]
  },
  {
   "cell_type": "code",
   "execution_count": 87,
   "metadata": {},
   "outputs": [],
   "source": [
    "df_pokemon_abilities = pd.merge(df_pokemon_abilities, df_abilities, left_on = \"ability_id\", right_on = \"id\", how = \"left\")"
   ]
  },
  {
   "cell_type": "code",
   "execution_count": 88,
   "metadata": {},
   "outputs": [
    {
     "data": {
      "text/plain": [
       "2167"
      ]
     },
     "execution_count": 88,
     "metadata": {},
     "output_type": "execute_result"
    }
   ],
   "source": [
    "len(df_pokemon_abilities)"
   ]
  },
  {
   "cell_type": "code",
   "execution_count": 89,
   "metadata": {},
   "outputs": [],
   "source": [
    "df_pokemon_abilities = df_pokemon_abilities[[\"pokemon_id\", \"ability_id\", \"identifier\", \"slot\",\"is_hidden\"]]"
   ]
  },
  {
   "cell_type": "code",
   "execution_count": 90,
   "metadata": {},
   "outputs": [
    {
     "data": {
      "text/plain": [
       "Index(['pokemon_id', 'ability_id', 'identifier', 'slot', 'is_hidden'], dtype='object')"
      ]
     },
     "execution_count": 90,
     "metadata": {},
     "output_type": "execute_result"
    }
   ],
   "source": [
    "df_pokemon_abilities.columns"
   ]
  },
  {
   "cell_type": "code",
   "execution_count": 91,
   "metadata": {},
   "outputs": [],
   "source": [
    "df_pokemon_abilities.columns = ['pokemon_id', 'ability_id', 'ability_identifier', 'ability_slot', 'ability_is_hidden']"
   ]
  },
  {
   "cell_type": "code",
   "execution_count": 92,
   "metadata": {},
   "outputs": [
    {
     "data": {
      "text/html": [
       "<div>\n",
       "<style scoped>\n",
       "    .dataframe tbody tr th:only-of-type {\n",
       "        vertical-align: middle;\n",
       "    }\n",
       "\n",
       "    .dataframe tbody tr th {\n",
       "        vertical-align: top;\n",
       "    }\n",
       "\n",
       "    .dataframe thead th {\n",
       "        text-align: right;\n",
       "    }\n",
       "</style>\n",
       "<table border=\"1\" class=\"dataframe\">\n",
       "  <thead>\n",
       "    <tr style=\"text-align: right;\">\n",
       "      <th></th>\n",
       "      <th>pokemon_id</th>\n",
       "      <th>ability_id</th>\n",
       "      <th>ability_identifier</th>\n",
       "      <th>ability_slot</th>\n",
       "      <th>ability_is_hidden</th>\n",
       "    </tr>\n",
       "  </thead>\n",
       "  <tbody>\n",
       "    <tr>\n",
       "      <th>0</th>\n",
       "      <td>1</td>\n",
       "      <td>65</td>\n",
       "      <td>overgrow</td>\n",
       "      <td>1</td>\n",
       "      <td>0</td>\n",
       "    </tr>\n",
       "    <tr>\n",
       "      <th>1</th>\n",
       "      <td>1</td>\n",
       "      <td>34</td>\n",
       "      <td>chlorophyll</td>\n",
       "      <td>3</td>\n",
       "      <td>1</td>\n",
       "    </tr>\n",
       "    <tr>\n",
       "      <th>2</th>\n",
       "      <td>2</td>\n",
       "      <td>65</td>\n",
       "      <td>overgrow</td>\n",
       "      <td>1</td>\n",
       "      <td>0</td>\n",
       "    </tr>\n",
       "    <tr>\n",
       "      <th>3</th>\n",
       "      <td>2</td>\n",
       "      <td>34</td>\n",
       "      <td>chlorophyll</td>\n",
       "      <td>3</td>\n",
       "      <td>1</td>\n",
       "    </tr>\n",
       "    <tr>\n",
       "      <th>4</th>\n",
       "      <td>3</td>\n",
       "      <td>65</td>\n",
       "      <td>overgrow</td>\n",
       "      <td>1</td>\n",
       "      <td>0</td>\n",
       "    </tr>\n",
       "  </tbody>\n",
       "</table>\n",
       "</div>"
      ],
      "text/plain": [
       "   pokemon_id  ability_id ability_identifier  ability_slot  ability_is_hidden\n",
       "0           1          65           overgrow             1                  0\n",
       "1           1          34        chlorophyll             3                  1\n",
       "2           2          65           overgrow             1                  0\n",
       "3           2          34        chlorophyll             3                  1\n",
       "4           3          65           overgrow             1                  0"
      ]
     },
     "execution_count": 92,
     "metadata": {},
     "output_type": "execute_result"
    }
   ],
   "source": [
    "df_pokemon_abilities.head()"
   ]
  },
  {
   "cell_type": "code",
   "execution_count": 93,
   "metadata": {},
   "outputs": [
    {
     "data": {
      "text/html": [
       "<div>\n",
       "<style scoped>\n",
       "    .dataframe tbody tr th:only-of-type {\n",
       "        vertical-align: middle;\n",
       "    }\n",
       "\n",
       "    .dataframe tbody tr th {\n",
       "        vertical-align: top;\n",
       "    }\n",
       "\n",
       "    .dataframe thead th {\n",
       "        text-align: right;\n",
       "    }\n",
       "</style>\n",
       "<table border=\"1\" class=\"dataframe\">\n",
       "  <thead>\n",
       "    <tr style=\"text-align: right;\">\n",
       "      <th></th>\n",
       "      <th>id</th>\n",
       "      <th>identifier</th>\n",
       "      <th>species_id</th>\n",
       "      <th>height</th>\n",
       "      <th>weight</th>\n",
       "      <th>base_experience</th>\n",
       "      <th>order</th>\n",
       "      <th>is_default</th>\n",
       "      <th>slot</th>\n",
       "      <th>identifier_type</th>\n",
       "      <th>generation_id</th>\n",
       "      <th>damage_class_id</th>\n",
       "    </tr>\n",
       "  </thead>\n",
       "  <tbody>\n",
       "    <tr>\n",
       "      <th>0</th>\n",
       "      <td>1</td>\n",
       "      <td>bulbasaur</td>\n",
       "      <td>1</td>\n",
       "      <td>7</td>\n",
       "      <td>69</td>\n",
       "      <td>64</td>\n",
       "      <td>1</td>\n",
       "      <td>1</td>\n",
       "      <td>1</td>\n",
       "      <td>grass</td>\n",
       "      <td>1</td>\n",
       "      <td>3.0</td>\n",
       "    </tr>\n",
       "    <tr>\n",
       "      <th>1</th>\n",
       "      <td>2</td>\n",
       "      <td>ivysaur</td>\n",
       "      <td>2</td>\n",
       "      <td>10</td>\n",
       "      <td>130</td>\n",
       "      <td>142</td>\n",
       "      <td>2</td>\n",
       "      <td>1</td>\n",
       "      <td>1</td>\n",
       "      <td>grass</td>\n",
       "      <td>1</td>\n",
       "      <td>3.0</td>\n",
       "    </tr>\n",
       "    <tr>\n",
       "      <th>2</th>\n",
       "      <td>3</td>\n",
       "      <td>venusaur</td>\n",
       "      <td>3</td>\n",
       "      <td>20</td>\n",
       "      <td>1000</td>\n",
       "      <td>236</td>\n",
       "      <td>3</td>\n",
       "      <td>1</td>\n",
       "      <td>1</td>\n",
       "      <td>grass</td>\n",
       "      <td>1</td>\n",
       "      <td>3.0</td>\n",
       "    </tr>\n",
       "    <tr>\n",
       "      <th>3</th>\n",
       "      <td>43</td>\n",
       "      <td>oddish</td>\n",
       "      <td>43</td>\n",
       "      <td>5</td>\n",
       "      <td>54</td>\n",
       "      <td>64</td>\n",
       "      <td>68</td>\n",
       "      <td>1</td>\n",
       "      <td>1</td>\n",
       "      <td>grass</td>\n",
       "      <td>1</td>\n",
       "      <td>3.0</td>\n",
       "    </tr>\n",
       "    <tr>\n",
       "      <th>4</th>\n",
       "      <td>44</td>\n",
       "      <td>gloom</td>\n",
       "      <td>44</td>\n",
       "      <td>8</td>\n",
       "      <td>86</td>\n",
       "      <td>138</td>\n",
       "      <td>69</td>\n",
       "      <td>1</td>\n",
       "      <td>1</td>\n",
       "      <td>grass</td>\n",
       "      <td>1</td>\n",
       "      <td>3.0</td>\n",
       "    </tr>\n",
       "  </tbody>\n",
       "</table>\n",
       "</div>"
      ],
      "text/plain": [
       "   id identifier  species_id  height  weight  base_experience  order  \\\n",
       "0   1  bulbasaur           1       7      69               64      1   \n",
       "1   2    ivysaur           2      10     130              142      2   \n",
       "2   3   venusaur           3      20    1000              236      3   \n",
       "3  43     oddish          43       5      54               64     68   \n",
       "4  44      gloom          44       8      86              138     69   \n",
       "\n",
       "   is_default  slot identifier_type  generation_id  damage_class_id  \n",
       "0           1     1           grass              1              3.0  \n",
       "1           1     1           grass              1              3.0  \n",
       "2           1     1           grass              1              3.0  \n",
       "3           1     1           grass              1              3.0  \n",
       "4           1     1           grass              1              3.0  "
      ]
     },
     "execution_count": 93,
     "metadata": {},
     "output_type": "execute_result"
    }
   ],
   "source": [
    "df_pokemon.head()"
   ]
  },
  {
   "cell_type": "code",
   "execution_count": 94,
   "metadata": {},
   "outputs": [
    {
     "data": {
      "text/html": [
       "<div>\n",
       "<style scoped>\n",
       "    .dataframe tbody tr th:only-of-type {\n",
       "        vertical-align: middle;\n",
       "    }\n",
       "\n",
       "    .dataframe tbody tr th {\n",
       "        vertical-align: top;\n",
       "    }\n",
       "\n",
       "    .dataframe thead th {\n",
       "        text-align: right;\n",
       "    }\n",
       "</style>\n",
       "<table border=\"1\" class=\"dataframe\">\n",
       "  <thead>\n",
       "    <tr style=\"text-align: right;\">\n",
       "      <th></th>\n",
       "      <th>id</th>\n",
       "      <th>identifier</th>\n",
       "      <th>identifier_type</th>\n",
       "      <th>pokemon_id</th>\n",
       "      <th>ability_id</th>\n",
       "      <th>ability_identifier</th>\n",
       "      <th>ability_slot</th>\n",
       "      <th>ability_is_hidden</th>\n",
       "    </tr>\n",
       "  </thead>\n",
       "  <tbody>\n",
       "    <tr>\n",
       "      <th>0</th>\n",
       "      <td>1</td>\n",
       "      <td>bulbasaur</td>\n",
       "      <td>grass</td>\n",
       "      <td>1</td>\n",
       "      <td>65</td>\n",
       "      <td>overgrow</td>\n",
       "      <td>1</td>\n",
       "      <td>0</td>\n",
       "    </tr>\n",
       "    <tr>\n",
       "      <th>1</th>\n",
       "      <td>1</td>\n",
       "      <td>bulbasaur</td>\n",
       "      <td>grass</td>\n",
       "      <td>1</td>\n",
       "      <td>34</td>\n",
       "      <td>chlorophyll</td>\n",
       "      <td>3</td>\n",
       "      <td>1</td>\n",
       "    </tr>\n",
       "    <tr>\n",
       "      <th>2</th>\n",
       "      <td>2</td>\n",
       "      <td>ivysaur</td>\n",
       "      <td>grass</td>\n",
       "      <td>2</td>\n",
       "      <td>65</td>\n",
       "      <td>overgrow</td>\n",
       "      <td>1</td>\n",
       "      <td>0</td>\n",
       "    </tr>\n",
       "    <tr>\n",
       "      <th>3</th>\n",
       "      <td>2</td>\n",
       "      <td>ivysaur</td>\n",
       "      <td>grass</td>\n",
       "      <td>2</td>\n",
       "      <td>34</td>\n",
       "      <td>chlorophyll</td>\n",
       "      <td>3</td>\n",
       "      <td>1</td>\n",
       "    </tr>\n",
       "    <tr>\n",
       "      <th>4</th>\n",
       "      <td>3</td>\n",
       "      <td>venusaur</td>\n",
       "      <td>grass</td>\n",
       "      <td>3</td>\n",
       "      <td>65</td>\n",
       "      <td>overgrow</td>\n",
       "      <td>1</td>\n",
       "      <td>0</td>\n",
       "    </tr>\n",
       "  </tbody>\n",
       "</table>\n",
       "</div>"
      ],
      "text/plain": [
       "   id identifier identifier_type  pokemon_id  ability_id ability_identifier  \\\n",
       "0   1  bulbasaur           grass           1          65           overgrow   \n",
       "1   1  bulbasaur           grass           1          34        chlorophyll   \n",
       "2   2    ivysaur           grass           2          65           overgrow   \n",
       "3   2    ivysaur           grass           2          34        chlorophyll   \n",
       "4   3   venusaur           grass           3          65           overgrow   \n",
       "\n",
       "   ability_slot  ability_is_hidden  \n",
       "0             1                  0  \n",
       "1             3                  1  \n",
       "2             1                  0  \n",
       "3             3                  1  \n",
       "4             1                  0  "
      ]
     },
     "execution_count": 94,
     "metadata": {},
     "output_type": "execute_result"
    }
   ],
   "source": [
    "df_pokemon_skills = pd.merge(df_pokemon[[\"id\", \"identifier\",\"identifier_type\"]], df_pokemon_abilities, left_on = \"id\", right_on = \"pokemon_id\", how = \"left\")\n",
    "df_pokemon_skills.head()"
   ]
  },
  {
   "cell_type": "markdown",
   "metadata": {},
   "source": [
    "What are the top 5 most common abilities in our pokemon skills dataframe?"
   ]
  },
  {
   "cell_type": "code",
   "execution_count": 98,
   "metadata": {},
   "outputs": [
    {
     "data": {
      "text/html": [
       "<div>\n",
       "<style scoped>\n",
       "    .dataframe tbody tr th:only-of-type {\n",
       "        vertical-align: middle;\n",
       "    }\n",
       "\n",
       "    .dataframe tbody tr th {\n",
       "        vertical-align: top;\n",
       "    }\n",
       "\n",
       "    .dataframe thead th {\n",
       "        text-align: right;\n",
       "    }\n",
       "</style>\n",
       "<table border=\"1\" class=\"dataframe\">\n",
       "  <thead>\n",
       "    <tr style=\"text-align: right;\">\n",
       "      <th></th>\n",
       "      <th>ability_count</th>\n",
       "    </tr>\n",
       "  </thead>\n",
       "  <tbody>\n",
       "    <tr>\n",
       "      <th>sturdy</th>\n",
       "      <td>71</td>\n",
       "    </tr>\n",
       "    <tr>\n",
       "      <th>keen-eye</th>\n",
       "      <td>63</td>\n",
       "    </tr>\n",
       "    <tr>\n",
       "      <th>swift-swim</th>\n",
       "      <td>60</td>\n",
       "    </tr>\n",
       "    <tr>\n",
       "      <th>chlorophyll</th>\n",
       "      <td>59</td>\n",
       "    </tr>\n",
       "    <tr>\n",
       "      <th>levitate</th>\n",
       "      <td>57</td>\n",
       "    </tr>\n",
       "  </tbody>\n",
       "</table>\n",
       "</div>"
      ],
      "text/plain": [
       "             ability_count\n",
       "sturdy                  71\n",
       "keen-eye                63\n",
       "swift-swim              60\n",
       "chlorophyll             59\n",
       "levitate                57"
      ]
     },
     "execution_count": 98,
     "metadata": {},
     "output_type": "execute_result"
    }
   ],
   "source": [
    "ability_counts_df = pd.DataFrame(\n",
    "    df_pokemon_skills[\"ability_identifier\"].value_counts()\n",
    ")\n",
    "ability_counts_df.columns = [\"ability_count\"]\n",
    "ability_counts_df.head()"
   ]
  },
  {
   "cell_type": "markdown",
   "metadata": {},
   "source": [
    "# Categorical Data\n",
    "\n",
    "Working with categorical data, e.g. `identifier_type` sometimes require you to generate 'dummy' values.\n",
    "That is creating multiple columns of `True` and `False` from a single column"
   ]
  },
  {
   "cell_type": "code",
   "execution_count": 102,
   "metadata": {},
   "outputs": [
    {
     "data": {
      "text/html": [
       "<div>\n",
       "<style scoped>\n",
       "    .dataframe tbody tr th:only-of-type {\n",
       "        vertical-align: middle;\n",
       "    }\n",
       "\n",
       "    .dataframe tbody tr th {\n",
       "        vertical-align: top;\n",
       "    }\n",
       "\n",
       "    .dataframe thead th {\n",
       "        text-align: right;\n",
       "    }\n",
       "</style>\n",
       "<table border=\"1\" class=\"dataframe\">\n",
       "  <thead>\n",
       "    <tr style=\"text-align: right;\">\n",
       "      <th></th>\n",
       "      <th>identifier</th>\n",
       "      <th>identifier_type</th>\n",
       "    </tr>\n",
       "  </thead>\n",
       "  <tbody>\n",
       "    <tr>\n",
       "      <th>665</th>\n",
       "      <td>stoutland</td>\n",
       "      <td>normal</td>\n",
       "    </tr>\n",
       "    <tr>\n",
       "      <th>624</th>\n",
       "      <td>miltank</td>\n",
       "      <td>normal</td>\n",
       "    </tr>\n",
       "    <tr>\n",
       "      <th>115</th>\n",
       "      <td>ekans</td>\n",
       "      <td>poison</td>\n",
       "    </tr>\n",
       "    <tr>\n",
       "      <th>478</th>\n",
       "      <td>barbaracle</td>\n",
       "      <td>water</td>\n",
       "    </tr>\n",
       "    <tr>\n",
       "      <th>233</th>\n",
       "      <td>talonflame</td>\n",
       "      <td>fire</td>\n",
       "    </tr>\n",
       "  </tbody>\n",
       "</table>\n",
       "</div>"
      ],
      "text/plain": [
       "     identifier identifier_type\n",
       "665   stoutland          normal\n",
       "624     miltank          normal\n",
       "115       ekans          poison\n",
       "478  barbaracle           water\n",
       "233  talonflame            fire"
      ]
     },
     "execution_count": 102,
     "metadata": {},
     "output_type": "execute_result"
    }
   ],
   "source": [
    "df_pokemon[[\"identifier\", \"identifier_type\"]].sample(5, random_state  = 42)"
   ]
  },
  {
   "cell_type": "markdown",
   "metadata": {},
   "source": [
    "Looking the sample above we want to create 4 additional columns."
   ]
  },
  {
   "cell_type": "code",
   "execution_count": null,
   "metadata": {},
   "outputs": [],
   "source": [
    "dummy_types_df = pd.get_dummies(df_pokemon[\"identifier_type\"])\n",
    "dummy_types_df.sample(5)"
   ]
  },
  {
   "cell_type": "code",
   "execution_count": null,
   "metadata": {},
   "outputs": [],
   "source": [
    "plot_correlation(dummy_types_df, \"Pokemon Damage Types Correlation\", figure_size = (11, 9))"
   ]
  },
  {
   "cell_type": "markdown",
   "metadata": {},
   "source": [
    "Tack these new columns onto the end of the exisiting columns"
   ]
  },
  {
   "cell_type": "code",
   "execution_count": null,
   "metadata": {},
   "outputs": [],
   "source": [
    "df_pokemon = pd.concat([df_pokemon, dummy_types_df], axis=1)\n",
    "df_pokemon = df_pokemon.drop([\"identifier_type\"], axis = 1)\n",
    "df_pokemon.columns"
   ]
  }
 ],
 "metadata": {
  "hide_input": false,
  "kernelspec": {
   "display_name": "Python 3",
   "language": "python",
   "name": "python3"
  },
  "language_info": {
   "codemirror_mode": {
    "name": "ipython",
    "version": 3
   },
   "file_extension": ".py",
   "mimetype": "text/x-python",
   "name": "python",
   "nbconvert_exporter": "python",
   "pygments_lexer": "ipython3",
   "version": "3.8.3"
  },
  "toc": {
   "nav_menu": {},
   "number_sections": true,
   "sideBar": true,
   "skip_h1_title": false,
   "title_cell": "Table of Contents",
   "title_sidebar": "Contents",
   "toc_cell": true,
   "toc_position": {},
   "toc_section_display": true,
   "toc_window_display": false
  }
 },
 "nbformat": 4,
 "nbformat_minor": 2
}
